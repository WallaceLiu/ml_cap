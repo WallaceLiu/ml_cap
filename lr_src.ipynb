{
 "cells": [
  {
   "cell_type": "code",
   "execution_count": 12,
   "metadata": {},
   "outputs": [],
   "source": [
    "from numpy import *\n",
    "import matplotlib.pyplot as plt\n",
    "import operator\n",
    "import time\n",
    "\n",
    "LINE_OF_DATA = 6\n",
    "LINE_OF_TEST = 4"
   ]
  },
  {
   "cell_type": "code",
   "execution_count": 17,
   "metadata": {},
   "outputs": [],
   "source": [
    "trainDataSet=[[1, 1, 4], \n",
    "                [1, 2, 3], \n",
    "                [1, -2, 3], \n",
    "                [1, -2, 2], \n",
    "                [1, 0, 1], \n",
    "                [1, 1, 2]]\n",
    "trainShares=[1, 1, 1, 0, 0,  0]\n",
    "testDataSet=[[1, 1, 1], \n",
    "                [1, 2, 0], \n",
    "                [1, 2, 4], \n",
    "                [1, 1, 3]]"
   ]
  },
  {
   "cell_type": "code",
   "execution_count": null,
   "metadata": {},
   "outputs": [],
   "source": [
    "def sigmoid(inX):\n",
    "\treturn 1.0 / (1 + exp(-inX))"
   ]
  },
  {
   "cell_type": "code",
   "execution_count": 18,
   "metadata": {},
   "outputs": [],
   "source": [
    "def gradAscent(dataMatIn, classLabels, alpha=0.001, maxCycles=1000):\n",
    "\tdataMatrix = mat(dataMatIn)\n",
    "\tlabelMat = mat(classLabels).transpose()\n",
    "\tm, n = shape(dataMatrix)\n",
    "\tweights = ones((n, 1))\n",
    "\tfor k in range(maxCycles):\n",
    "\t\th = sigmoid(dataMatrix * weights)\n",
    "\t\terror = (labelMat - h)\n",
    "\t\tweights = weights + alpha * dataMatrix.transpose() * error\n",
    "\treturn weights\n",
    "\n",
    "def plotBestFit(weights):\n",
    "\tdataMat, labelMat = createTrainDataSet()\n",
    "\tdataArr = array(dataMat)\n",
    "\tn = shape(dataArr)[0]\n",
    "\txcord1 = []; ycord1 = []\n",
    "\txcord2 = []; ycord2 = []\n",
    "\tfor i in range(n):\n",
    "\t\tif int(labelMat[i]) == 1:\n",
    "\t\t\txcord1.append(dataArr[i, 1])\n",
    "\t\t\tycord1.append(dataArr[i, 2])\n",
    "\t\telse:\n",
    "\t\t\txcord2.append(dataArr[i, 1])\n",
    "\t\t\tycord2.append(dataArr[i, 2])\n",
    "\tfig = plt.figure()\n",
    "\tax = fig.add_subplot(111)\n",
    "\tax.scatter(xcord1, ycord1, s=30, c='red', marker='s')\n",
    "\tax.scatter(xcord2, ycord2, s=30, c='green')\n",
    "\tx = arange(-3.0, 3.0, 0.1)\n",
    "\ty = (-weights[0] - weights[1] * x) / weights[2]\n",
    "\tax.plot(x, y)\n",
    "\tplt.xlabel('X1'); plt.ylabel('X2')\n",
    "\tplt.show()\n",
    "\n",
    "def classifyVector(inX, weights):\n",
    "\tprob = sigmoid(sum(inX * weights))\n",
    "\tif prob > 0.5:\n",
    "\t\treturn 1\n",
    "\telse:\n",
    "\t\treturn 0\n",
    "\n",
    "def classifyAll(dataSet, weights):\n",
    "\tpredict = []\n",
    "\tfor vector in dataSet:\n",
    "\t\tpredict.append(classifyVector(vector, weights))\n",
    "\treturn predict\n",
    "\n",
    "def main():\n",
    "\tregMatrix = gradAscent(trainDataSet, trainShares, 0.01, 600)\n",
    "\tprint(\"regMatrix = \\n\", regMatrix)\n",
    "\tplotBestFit(regMatrix.getA())\n",
    "\tpredictShares = classifyAll(testDataSet, regMatrix)\n",
    "\tprint(\"predictResult: \\n\", predictShares)"
   ]
  },
  {
   "cell_type": "code",
   "execution_count": 19,
   "metadata": {},
   "outputs": [
    {
     "name": "stdout",
     "output_type": "stream",
     "text": [
      "regMatrix = \n",
      " [[-2.7205211 ]\n",
      " [ 0.19112108]\n",
      " [ 1.23590529]]\n"
     ]
    },
    {
     "data": {
      "image/png": "[encoded data removed]",
      "text/plain": [
       "<Figure size 432x288 with 1 Axes>"
      ]
     },
     "metadata": {
      "needs_background": "light"
     },
     "output_type": "display_data"
    },
    {
     "name": "stdout",
     "output_type": "stream",
     "text": [
      "predictResult: \n",
      " [0, 0, 1, 1]\n"
     ]
    }
   ],
   "source": [
    "main()"
   ]
  },
  {
   "cell_type": "code",
   "execution_count": null,
   "metadata": {},
   "outputs": [],
   "source": []
  }
 ],
 "metadata": {
  "kernelspec": {
   "display_name": "Python 3",
   "language": "python",
   "name": "python3"
  },
  "language_info": {
   "codemirror_mode": {
    "name": "ipython",
    "version": 3
   },
   "file_extension": ".py",
   "mimetype": "text/x-python",
   "name": "python",
   "nbconvert_exporter": "python",
   "pygments_lexer": "ipython3",
   "version": "3.7.5"
  }
 },
 "nbformat": 4,
 "nbformat_minor": 4
}
