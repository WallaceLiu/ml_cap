{
 "cells": [
  {
   "cell_type": "code",
   "execution_count": 24,
   "metadata": {},
   "outputs": [],
   "source": [
    "import numpy as np\n",
    "\n",
    "vc=[1,2,39,0,8]\n",
    "vb=[1,2,38,0,8]\n",
    "\n",
    "avg_vc=np.mean(vc)\n",
    "avg_vb=np.mean(vb)\n",
    "\n",
    "mul=np.multiply((vc-avg_vc),(vb-avg_vb))"
   ]
  },
  {
   "cell_type": "code",
   "execution_count": 25,
   "metadata": {},
   "outputs": [
    {
     "data": {
      "text/plain": [
       "0.999986231330961"
      ]
     },
     "execution_count": 25,
     "metadata": {},
     "output_type": "execute_result"
    }
   ],
   "source": [
    "np.mean(mul)/(np.std(vb)*np.std(vc))"
   ]
  },
  {
   "cell_type": "code",
   "execution_count": 16,
   "metadata": {},
   "outputs": [
    {
     "data": {
      "text/plain": [
       "array([[1.        , 0.99998623],\n",
       "       [0.99998623, 1.        ]])"
      ]
     },
     "execution_count": 16,
     "metadata": {},
     "output_type": "execute_result"
    }
   ],
   "source": [
    "#corrcoef得到相关系数矩阵（向量的相似程度）\n",
    "np.corrcoef(vc,vb)"
   ]
  },
  {
   "cell_type": "code",
   "execution_count": 5,
   "metadata": {},
   "outputs": [
    {
     "name": "stdout",
     "output_type": "stream",
     "text": [
      "矩阵1=\n",
      " [[1 2 3]\n",
      " [4 5 6]]\n",
      "矩阵2=\n",
      " [[ 11  25 346]\n",
      " [734  48  49]]\n"
     ]
    }
   ],
   "source": [
    "import numpy as np\n",
    "\n",
    "Mat1 = np.array([[1, 2, 3], [4, 5, 6]])\n",
    "Mat2 = np.array([[11, 25, 346], [734, 48, 49]])\n",
    "\n",
    "print(\"矩阵1=\\n\", Mat1)\n",
    "print(\"矩阵2=\\n\", Mat2)"
   ]
  },
  {
   "cell_type": "code",
   "execution_count": 6,
   "metadata": {},
   "outputs": [
    {
     "data": {
      "text/plain": [
       "array([[ 1.        ,  1.        ,  0.88390399, -0.86539304],\n",
       "       [ 1.        ,  1.        ,  0.88390399, -0.86539304],\n",
       "       [ 0.88390399,  0.88390399,  1.        , -0.53057867],\n",
       "       [-0.86539304, -0.86539304, -0.53057867,  1.        ]])"
      ]
     },
     "execution_count": 6,
     "metadata": {},
     "output_type": "execute_result"
    }
   ],
   "source": [
    "np.corrcoef(Mat1, Mat2)"
   ]
  },
  {
   "cell_type": "code",
   "execution_count": null,
   "metadata": {},
   "outputs": [],
   "source": []
  },
  {
   "cell_type": "code",
   "execution_count": null,
   "metadata": {},
   "outputs": [],
   "source": []
  }
 ],
 "metadata": {
  "kernelspec": {
   "display_name": "Python 3",
   "language": "python",
   "name": "python3"
  },
  "language_info": {
   "codemirror_mode": {
    "name": "ipython",
    "version": 3
   },
   "file_extension": ".py",
   "mimetype": "text/x-python",
   "name": "python",
   "nbconvert_exporter": "python",
   "pygments_lexer": "ipython3",
   "version": "3.7.5"
  }
 },
 "nbformat": 4,
 "nbformat_minor": 4
}
