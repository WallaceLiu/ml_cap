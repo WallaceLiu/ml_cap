{
 "cells": [
  {
   "cell_type": "markdown",
   "metadata": {},
   "source": [
    "# Collaborative Filtering-movieLen"
   ]
  },
  {
   "cell_type": "markdown",
   "metadata": {},
   "source": [
    "movieLen数据集 \n",
    "- [ml-latest-small(1MB)](https://grouplens.org/datasets/movielens/)\n",
    "- [ml-latest(234.2MB)](http://files.grouplens.org/datasets/movielens/ml-latest.zip)"
   ]
  },
  {
   "cell_type": "code",
   "execution_count": 126,
   "metadata": {},
   "outputs": [],
   "source": [
    "import  pandas as pd\n",
    "\n",
    "movies = pd.read_csv(\"./data/ml-latest-small/movies.csv\")\n",
    "ratings = pd.read_csv(\"./data/ml-latest-small/ratings.csv\")"
   ]
  },
  {
   "cell_type": "markdown",
   "metadata": {},
   "source": [
    "# 两个dataframe通过movieId连接"
   ]
  },
  {
   "cell_type": "code",
   "execution_count": 127,
   "metadata": {},
   "outputs": [],
   "source": [
    "data = pd.merge(movies,ratings,on = 'movieId')\n",
    "d = data[['userId','rating','movieId','title']].sort_values('userId')\n",
    "d.to_csv('./data/ml-latest-small/data.csv',index=False)"
   ]
  },
  {
   "cell_type": "code",
   "execution_count": 128,
   "metadata": {},
   "outputs": [
    {
     "data": {
      "text/html": [
       "<div>\n",
       "<style scoped>\n",
       "    .dataframe tbody tr th:only-of-type {\n",
       "        vertical-align: middle;\n",
       "    }\n",
       "\n",
       "    .dataframe tbody tr th {\n",
       "        vertical-align: top;\n",
       "    }\n",
       "\n",
       "    .dataframe thead th {\n",
       "        text-align: right;\n",
       "    }\n",
       "</style>\n",
       "<table border=\"1\" class=\"dataframe\">\n",
       "  <thead>\n",
       "    <tr style=\"text-align: right;\">\n",
       "      <th></th>\n",
       "      <th>movieId</th>\n",
       "      <th>title</th>\n",
       "      <th>genres</th>\n",
       "    </tr>\n",
       "  </thead>\n",
       "  <tbody>\n",
       "    <tr>\n",
       "      <th>0</th>\n",
       "      <td>1</td>\n",
       "      <td>Toy Story (1995)</td>\n",
       "      <td>Adventure|Animation|Children|Comedy|Fantasy</td>\n",
       "    </tr>\n",
       "    <tr>\n",
       "      <th>1</th>\n",
       "      <td>2</td>\n",
       "      <td>Jumanji (1995)</td>\n",
       "      <td>Adventure|Children|Fantasy</td>\n",
       "    </tr>\n",
       "    <tr>\n",
       "      <th>2</th>\n",
       "      <td>3</td>\n",
       "      <td>Grumpier Old Men (1995)</td>\n",
       "      <td>Comedy|Romance</td>\n",
       "    </tr>\n",
       "    <tr>\n",
       "      <th>3</th>\n",
       "      <td>4</td>\n",
       "      <td>Waiting to Exhale (1995)</td>\n",
       "      <td>Comedy|Drama|Romance</td>\n",
       "    </tr>\n",
       "    <tr>\n",
       "      <th>4</th>\n",
       "      <td>5</td>\n",
       "      <td>Father of the Bride Part II (1995)</td>\n",
       "      <td>Comedy</td>\n",
       "    </tr>\n",
       "  </tbody>\n",
       "</table>\n",
       "</div>"
      ],
      "text/plain": [
       "   movieId                               title  \\\n",
       "0        1                    Toy Story (1995)   \n",
       "1        2                      Jumanji (1995)   \n",
       "2        3             Grumpier Old Men (1995)   \n",
       "3        4            Waiting to Exhale (1995)   \n",
       "4        5  Father of the Bride Part II (1995)   \n",
       "\n",
       "                                        genres  \n",
       "0  Adventure|Animation|Children|Comedy|Fantasy  \n",
       "1                   Adventure|Children|Fantasy  \n",
       "2                               Comedy|Romance  \n",
       "3                         Comedy|Drama|Romance  \n",
       "4                                       Comedy  "
      ]
     },
     "execution_count": 128,
     "metadata": {},
     "output_type": "execute_result"
    }
   ],
   "source": [
    "movies.head()"
   ]
  },
  {
   "cell_type": "code",
   "execution_count": 129,
   "metadata": {},
   "outputs": [
    {
     "data": {
      "text/html": [
       "<div>\n",
       "<style scoped>\n",
       "    .dataframe tbody tr th:only-of-type {\n",
       "        vertical-align: middle;\n",
       "    }\n",
       "\n",
       "    .dataframe tbody tr th {\n",
       "        vertical-align: top;\n",
       "    }\n",
       "\n",
       "    .dataframe thead th {\n",
       "        text-align: right;\n",
       "    }\n",
       "</style>\n",
       "<table border=\"1\" class=\"dataframe\">\n",
       "  <thead>\n",
       "    <tr style=\"text-align: right;\">\n",
       "      <th></th>\n",
       "      <th>userId</th>\n",
       "      <th>movieId</th>\n",
       "      <th>rating</th>\n",
       "      <th>timestamp</th>\n",
       "    </tr>\n",
       "  </thead>\n",
       "  <tbody>\n",
       "    <tr>\n",
       "      <th>0</th>\n",
       "      <td>1</td>\n",
       "      <td>1</td>\n",
       "      <td>4.0</td>\n",
       "      <td>964982703</td>\n",
       "    </tr>\n",
       "    <tr>\n",
       "      <th>1</th>\n",
       "      <td>1</td>\n",
       "      <td>3</td>\n",
       "      <td>4.0</td>\n",
       "      <td>964981247</td>\n",
       "    </tr>\n",
       "    <tr>\n",
       "      <th>2</th>\n",
       "      <td>1</td>\n",
       "      <td>6</td>\n",
       "      <td>4.0</td>\n",
       "      <td>964982224</td>\n",
       "    </tr>\n",
       "    <tr>\n",
       "      <th>3</th>\n",
       "      <td>1</td>\n",
       "      <td>47</td>\n",
       "      <td>5.0</td>\n",
       "      <td>964983815</td>\n",
       "    </tr>\n",
       "    <tr>\n",
       "      <th>4</th>\n",
       "      <td>1</td>\n",
       "      <td>50</td>\n",
       "      <td>5.0</td>\n",
       "      <td>964982931</td>\n",
       "    </tr>\n",
       "  </tbody>\n",
       "</table>\n",
       "</div>"
      ],
      "text/plain": [
       "   userId  movieId  rating  timestamp\n",
       "0       1        1     4.0  964982703\n",
       "1       1        3     4.0  964981247\n",
       "2       1        6     4.0  964982224\n",
       "3       1       47     5.0  964983815\n",
       "4       1       50     5.0  964982931"
      ]
     },
     "execution_count": 129,
     "metadata": {},
     "output_type": "execute_result"
    }
   ],
   "source": [
    "ratings.head()"
   ]
  },
  {
   "cell_type": "code",
   "execution_count": 130,
   "metadata": {},
   "outputs": [
    {
     "data": {
      "text/html": [
       "<div>\n",
       "<style scoped>\n",
       "    .dataframe tbody tr th:only-of-type {\n",
       "        vertical-align: middle;\n",
       "    }\n",
       "\n",
       "    .dataframe tbody tr th {\n",
       "        vertical-align: top;\n",
       "    }\n",
       "\n",
       "    .dataframe thead th {\n",
       "        text-align: right;\n",
       "    }\n",
       "</style>\n",
       "<table border=\"1\" class=\"dataframe\">\n",
       "  <thead>\n",
       "    <tr style=\"text-align: right;\">\n",
       "      <th></th>\n",
       "      <th>movieId</th>\n",
       "      <th>title</th>\n",
       "      <th>genres</th>\n",
       "      <th>userId</th>\n",
       "      <th>rating</th>\n",
       "      <th>timestamp</th>\n",
       "    </tr>\n",
       "  </thead>\n",
       "  <tbody>\n",
       "    <tr>\n",
       "      <th>0</th>\n",
       "      <td>1</td>\n",
       "      <td>Toy Story (1995)</td>\n",
       "      <td>Adventure|Animation|Children|Comedy|Fantasy</td>\n",
       "      <td>1</td>\n",
       "      <td>4.0</td>\n",
       "      <td>964982703</td>\n",
       "    </tr>\n",
       "    <tr>\n",
       "      <th>1</th>\n",
       "      <td>1</td>\n",
       "      <td>Toy Story (1995)</td>\n",
       "      <td>Adventure|Animation|Children|Comedy|Fantasy</td>\n",
       "      <td>5</td>\n",
       "      <td>4.0</td>\n",
       "      <td>847434962</td>\n",
       "    </tr>\n",
       "    <tr>\n",
       "      <th>2</th>\n",
       "      <td>1</td>\n",
       "      <td>Toy Story (1995)</td>\n",
       "      <td>Adventure|Animation|Children|Comedy|Fantasy</td>\n",
       "      <td>7</td>\n",
       "      <td>4.5</td>\n",
       "      <td>1106635946</td>\n",
       "    </tr>\n",
       "    <tr>\n",
       "      <th>3</th>\n",
       "      <td>1</td>\n",
       "      <td>Toy Story (1995)</td>\n",
       "      <td>Adventure|Animation|Children|Comedy|Fantasy</td>\n",
       "      <td>15</td>\n",
       "      <td>2.5</td>\n",
       "      <td>1510577970</td>\n",
       "    </tr>\n",
       "    <tr>\n",
       "      <th>4</th>\n",
       "      <td>1</td>\n",
       "      <td>Toy Story (1995)</td>\n",
       "      <td>Adventure|Animation|Children|Comedy|Fantasy</td>\n",
       "      <td>17</td>\n",
       "      <td>4.5</td>\n",
       "      <td>1305696483</td>\n",
       "    </tr>\n",
       "  </tbody>\n",
       "</table>\n",
       "</div>"
      ],
      "text/plain": [
       "   movieId             title                                       genres  \\\n",
       "0        1  Toy Story (1995)  Adventure|Animation|Children|Comedy|Fantasy   \n",
       "1        1  Toy Story (1995)  Adventure|Animation|Children|Comedy|Fantasy   \n",
       "2        1  Toy Story (1995)  Adventure|Animation|Children|Comedy|Fantasy   \n",
       "3        1  Toy Story (1995)  Adventure|Animation|Children|Comedy|Fantasy   \n",
       "4        1  Toy Story (1995)  Adventure|Animation|Children|Comedy|Fantasy   \n",
       "\n",
       "   userId  rating   timestamp  \n",
       "0       1     4.0   964982703  \n",
       "1       5     4.0   847434962  \n",
       "2       7     4.5  1106635946  \n",
       "3      15     2.5  1510577970  \n",
       "4      17     4.5  1305696483  "
      ]
     },
     "execution_count": 130,
     "metadata": {},
     "output_type": "execute_result"
    }
   ],
   "source": [
    "data.head()"
   ]
  },
  {
   "cell_type": "code",
   "execution_count": 131,
   "metadata": {},
   "outputs": [
    {
     "data": {
      "text/html": [
       "<div>\n",
       "<style scoped>\n",
       "    .dataframe tbody tr th:only-of-type {\n",
       "        vertical-align: middle;\n",
       "    }\n",
       "\n",
       "    .dataframe tbody tr th {\n",
       "        vertical-align: top;\n",
       "    }\n",
       "\n",
       "    .dataframe thead th {\n",
       "        text-align: right;\n",
       "    }\n",
       "</style>\n",
       "<table border=\"1\" class=\"dataframe\">\n",
       "  <thead>\n",
       "    <tr style=\"text-align: right;\">\n",
       "      <th></th>\n",
       "      <th>userId</th>\n",
       "      <th>rating</th>\n",
       "      <th>movieId</th>\n",
       "      <th>title</th>\n",
       "    </tr>\n",
       "  </thead>\n",
       "  <tbody>\n",
       "    <tr>\n",
       "      <th>0</th>\n",
       "      <td>1</td>\n",
       "      <td>4.0</td>\n",
       "      <td>1</td>\n",
       "      <td>Toy Story (1995)</td>\n",
       "    </tr>\n",
       "    <tr>\n",
       "      <th>35548</th>\n",
       "      <td>1</td>\n",
       "      <td>4.0</td>\n",
       "      <td>1777</td>\n",
       "      <td>Wedding Singer, The (1998)</td>\n",
       "    </tr>\n",
       "    <tr>\n",
       "      <th>35249</th>\n",
       "      <td>1</td>\n",
       "      <td>5.0</td>\n",
       "      <td>1732</td>\n",
       "      <td>Big Lebowski, The (1998)</td>\n",
       "    </tr>\n",
       "    <tr>\n",
       "      <th>34348</th>\n",
       "      <td>1</td>\n",
       "      <td>3.0</td>\n",
       "      <td>1676</td>\n",
       "      <td>Starship Troopers (1997)</td>\n",
       "    </tr>\n",
       "    <tr>\n",
       "      <th>2379</th>\n",
       "      <td>1</td>\n",
       "      <td>5.0</td>\n",
       "      <td>50</td>\n",
       "      <td>Usual Suspects, The (1995)</td>\n",
       "    </tr>\n",
       "  </tbody>\n",
       "</table>\n",
       "</div>"
      ],
      "text/plain": [
       "       userId  rating  movieId                       title\n",
       "0           1     4.0        1            Toy Story (1995)\n",
       "35548       1     4.0     1777  Wedding Singer, The (1998)\n",
       "35249       1     5.0     1732    Big Lebowski, The (1998)\n",
       "34348       1     3.0     1676    Starship Troopers (1997)\n",
       "2379        1     5.0       50  Usual Suspects, The (1995)"
      ]
     },
     "execution_count": 131,
     "metadata": {},
     "output_type": "execute_result"
    }
   ],
   "source": [
    "d.head()"
   ]
  },
  {
   "cell_type": "code",
   "execution_count": 100,
   "metadata": {},
   "outputs": [],
   "source": [
    "file = open(\"./data/ml-latest-small/data.csv\",'r', encoding='UTF-8')\n",
    "##读取data.csv中每行中除了名字的数据\n",
    "data = {}##存放每位用户评论的电影和评分\n",
    "for line in file.readlines():\n",
    "    line = line.strip().split(',')\n",
    "    #如果字典中没有某位用户，则使用用户ID来创建这位用户\n",
    "    if not line[0] in data.keys():\n",
    "        data[line[0]] = {line[3]:line[1]}\n",
    "    #否则直接添加以该用户ID为key字典中\n",
    "    else:\n",
    "        data[line[0]][line[3]] = line[1]"
   ]
  },
  {
   "cell_type": "code",
   "execution_count": 70,
   "metadata": {},
   "outputs": [
    {
     "name": "stdout",
     "output_type": "stream",
     "text": [
      "611\n"
     ]
    }
   ],
   "source": [
    "print(len(data))"
   ]
  },
  {
   "cell_type": "code",
   "execution_count": 101,
   "metadata": {},
   "outputs": [
    {
     "data": {
      "text/plain": [
       "{'Toy Story (1995)': '4.0',\n",
       " '\"Wedding Singer': '4.0',\n",
       " '\"Big Lebowski': '5.0',\n",
       " 'Starship Troopers (1997)': '3.0',\n",
       " '\"Usual Suspects': '5.0',\n",
       " 'I Know What You Did Last Summer (1997)': '3.0',\n",
       " '\"Game': '5.0',\n",
       " 'Scream 3 (2000)': '5.0',\n",
       " 'Welcome to Woop-Woop (1997)': '4.0',\n",
       " 'Kiss the Girls (1997)': '4.0',\n",
       " 'Conan the Barbarian (1982)': '5.0',\n",
       " 'Men in Black (a.k.a. MIB) (1997)': '3.0',\n",
       " 'Face/Off (1997)': '5.0',\n",
       " '\"Dirty Dozen': '5.0',\n",
       " 'Con Air (1997)': '4.0',\n",
       " 'Goldfinger (1964)': '5.0',\n",
       " 'Austin Powers: International Man of Mystery (1997)': '5.0',\n",
       " 'L.A. Confidential (1997)': '5.0',\n",
       " '\"Newton Boys': '5.0',\n",
       " 'Wild Things (1998)': '4.0',\n",
       " 'Total Recall (1990)': '4.0',\n",
       " '\"Honey': '4.0',\n",
       " '\"Great Mouse Detective': '5.0',\n",
       " 'Flight of the Navigator (1986)': '4.0',\n",
       " '\"Black Cauldron': '5.0',\n",
       " 'Grumpier Old Men (1995)': '4.0',\n",
       " 'Saving Private Ryan (1998)': '4.0',\n",
       " 'Bambi (1942)': '5.0',\n",
       " \"Gulliver's Travels (1939)\": '5.0',\n",
       " 'Back to the Future Part III (1990)': '4.0',\n",
       " '\"Goonies': '5.0',\n",
       " 'Lethal Weapon (1987)': '4.0',\n",
       " 'M*A*S*H (a.k.a. MASH) (1970)': '5.0',\n",
       " 'Labyrinth (1986)': '4.0',\n",
       " 'Rocky (1976)': '5.0',\n",
       " 'All Quiet on the Western Front (1930)': '5.0',\n",
       " 'Small Soldiers (1998)': '4.0',\n",
       " 'Seven (a.k.a. Se7en) (1995)': '5.0',\n",
       " 'Grosse Pointe Blank (1997)': '4.0',\n",
       " '\"Negotiator': '5.0',\n",
       " 'Best Men (1997)': '4.0',\n",
       " \"McHale's Navy (1997)\": '3.0',\n",
       " 'Psycho (1960)': '2.0',\n",
       " 'Alien (1979)': '4.0',\n",
       " 'Goodfellas (1990)': '5.0',\n",
       " 'Braveheart (1995)': '4.0',\n",
       " 'Star Wars: Episode VI - Return of the Jedi (1983)': '5.0',\n",
       " \"Wayne's World (1992)\": '5.0',\n",
       " 'Apocalypse Now (1979)': '4.0',\n",
       " '\"Blues Brothers': '5.0',\n",
       " '\"Clockwork Orange': '5.0',\n",
       " '\"Princess Bride': '5.0',\n",
       " 'Sister Act (1992)': '3.0',\n",
       " 'Encino Man (1992)': '3.0',\n",
       " 'Star Wars: Episode V - The Empire Strikes Back (1980)': '5.0',\n",
       " 'Monty Python and the Holy Grail (1975)': '5.0',\n",
       " '\"Abyss': '4.0',\n",
       " 'E.T. the Extra-Terrestrial (1982)': '5.0',\n",
       " 'Raiders of the Lost Ark (Indiana Jones and the Raiders of the Lost Ark) (1981)': '5.0',\n",
       " 'Full Metal Jacket (1987)': '5.0',\n",
       " 'Henry V (1989)': '5.0',\n",
       " '\"Quiet Man': '5.0',\n",
       " '\"Last of the Mohicans': '3.0',\n",
       " 'Dr. No (1962)': '5.0',\n",
       " 'Batman Returns (1992)': '3.0',\n",
       " 'From Dusk Till Dawn (1996)': '3.0',\n",
       " '\"Nosferatu (Nosferatu': '4.0',\n",
       " 'Pink Floyd: The Wall (1982)': '5.0',\n",
       " 'Indiana Jones and the Last Crusade (1989)': '5.0',\n",
       " 'Fantasia (1940)': '5.0',\n",
       " 'Young Frankenstein (1974)': '5.0',\n",
       " 'Highlander (1986)': '5.0',\n",
       " 'Back to the Future (1985)': '5.0',\n",
       " 'Groundhog Day (1993)': '4.0',\n",
       " 'Fight Club (1999)': '5.0',\n",
       " '\"Shining': '3.0',\n",
       " 'Duck Soup (1933)': '5.0',\n",
       " 'Bottle Rocket (1996)': '5.0',\n",
       " '\"Terminator': '5.0',\n",
       " 'From Russia with Love (1963)': '5.0',\n",
       " 'Basic Instinct (1992)': '5.0',\n",
       " '\"Jungle Book': '5.0',\n",
       " 'Return to Oz (1985)': '3.0',\n",
       " 'Shaft (2000)': '4.0',\n",
       " 'Star Wars: Episode I - The Phantom Menace (1999)': '4.0',\n",
       " 'Big (1988)': '4.0',\n",
       " '\"Mummy': '2.0',\n",
       " 'Dick Tracy (1990)': '4.0',\n",
       " 'SLC Punk! (1998)': '5.0',\n",
       " 'X-Men (2000)': '5.0',\n",
       " 'Big Trouble in Little China (1986)': '4.0',\n",
       " 'Go (1999)': '5.0',\n",
       " 'What About Bob? (1991)': '4.0',\n",
       " '\"Matrix': '5.0',\n",
       " '\"Lock': '5.0',\n",
       " 'Planet of the Apes (1968)': '5.0',\n",
       " \"Logan's Run (1976)\": '3.0',\n",
       " 'Heat (1995)': '4.0',\n",
       " 'Office Space (1999)': '5.0',\n",
       " 'Grumpy Old Men (1993)': '5.0',\n",
       " 'Superman (1978)': '4.0',\n",
       " 'Shaft (1971)': '5.0',\n",
       " 'Superman II (1980)': '5.0',\n",
       " '\"Iron Giant': '5.0',\n",
       " 'Predator (1987)': '4.0',\n",
       " 'Gladiator (2000)': '5.0',\n",
       " 'Hook (1991)': '4.0',\n",
       " 'Ghostbusters (a.k.a. Ghost Busters) (1984)': '5.0',\n",
       " 'Road Trip (2000)': '4.0',\n",
       " '\"South Park: Bigger': '5.0',\n",
       " '\"Man with the Golden Gun': '4.0',\n",
       " 'Run Lola Run (Lola rennt) (1998)': '5.0',\n",
       " 'Blazing Saddles (1974)': '5.0',\n",
       " 'Mad Max (1979)': '5.0',\n",
       " '\"Road Warrior': '5.0',\n",
       " '\"Rocky Horror Picture Show': '3.0',\n",
       " '\"Wolf Man': '5.0',\n",
       " 'Ladyhawke (1985)': '4.0',\n",
       " 'Frankenstein (1931)': '4.0',\n",
       " 'Dracula (1931)': '4.0',\n",
       " '\"Good Morning': '5.0',\n",
       " '\"Rescuers': '5.0',\n",
       " '20 Dates (1998)': '4.0',\n",
       " 'Crocodile Dundee (1986)': '5.0',\n",
       " 'Toys (1992)': '2.0',\n",
       " 'Willow (1988)': '4.0',\n",
       " 'Beetlejuice (1988)': '4.0',\n",
       " '\"NeverEnding Story': '5.0',\n",
       " 'Legend (1985)': '4.0',\n",
       " 'JFK (1991)': '5.0',\n",
       " '\"American Tail': '5.0',\n",
       " '\"Few Good Men': '4.0',\n",
       " '\"Secret of NIMH': '5.0',\n",
       " '\"Lord of the Rings': '5.0',\n",
       " 'Indiana Jones and the Temple of Doom (1984)': '5.0',\n",
       " 'Excalibur (1981)': '5.0',\n",
       " 'Tron (1982)': '4.0',\n",
       " 'Song of the South (1946)': '4.0',\n",
       " 'Sleeping Beauty (1959)': '4.0',\n",
       " '\"Rocketeer': '5.0',\n",
       " \"Charlotte's Web (1973)\": '5.0',\n",
       " 'Rush Hour (1998)': '4.0',\n",
       " 'Edward Scissorhands (1990)': '5.0',\n",
       " 'American History X (1998)': '5.0',\n",
       " 'Red Dawn (1984)': '5.0',\n",
       " 'Teenage Mutant Ninja Turtles III (1993)': '4.0',\n",
       " 'Teenage Mutant Ninja Turtles II: The Secret of the Ooze (1991)': '4.0',\n",
       " '\"Texas Chainsaw Massacre': '5.0',\n",
       " 'Howard the Duck (1986)': '4.0',\n",
       " '\"Thin Red Line': '5.0',\n",
       " 'Transformers: The Movie (1986)': '4.0',\n",
       " 'Young Sherlock Holmes (1985)': '3.0',\n",
       " '\"13th Warrior': '4.0',\n",
       " 'Romancing the Stone (1984)': '4.0',\n",
       " 'Rushmore (1998)': '5.0',\n",
       " 'Psycho (1998)': '2.0',\n",
       " 'Very Bad Things (1998)': '5.0',\n",
       " 'American Beauty (1999)': '5.0',\n",
       " 'King Kong (1933)': '4.0',\n",
       " 'Enemy of the State (1998)': '5.0',\n",
       " 'I Still Know What You Did Last Summer (1998)': '2.0',\n",
       " '¡Three Amigos! (1986)': '4.0',\n",
       " 'RoboCop (1987)': '4.0',\n",
       " 'Sneakers (1992)': '3.0',\n",
       " 'Reservoir Dogs (1992)': '5.0',\n",
       " 'Forrest Gump (1994)': '4.0',\n",
       " 'Tommy Boy (1995)': '5.0',\n",
       " 'Winnie the Pooh and the Blustery Day (1968)': '5.0',\n",
       " 'Pinocchio (1940)': '5.0',\n",
       " 'Billy Madison (1995)': '5.0',\n",
       " '\"Three Caballeros': '5.0',\n",
       " '\"Talented Mr. Ripley': '1.0',\n",
       " '\"Sword in the Stone': '5.0',\n",
       " 'Twister (1996)': '3.0',\n",
       " 'Spaceballs (1987)': '5.0',\n",
       " 'Dazed and Confused (1993)': '4.0',\n",
       " 'Dumbo (1941)': '5.0',\n",
       " \"Pete's Dragon (1977)\": '3.0',\n",
       " 'Dogma (1999)': '5.0',\n",
       " 'Bedknobs and Broomsticks (1971)': '5.0',\n",
       " 'Rob Roy (1995)': '5.0',\n",
       " 'Citizen Kane (1941)': '5.0',\n",
       " 'Platoon (1986)': '4.0',\n",
       " 'Jurassic Park (1993)': '4.0',\n",
       " 'Being John Malkovich (1999)': '4.0',\n",
       " 'Space Jam (1996)': '3.0',\n",
       " '\"Longest Day': '4.0',\n",
       " '\"Adventures of Robin Hood': '5.0',\n",
       " 'Canadian Bacon (1995)': '5.0',\n",
       " 'James and the Giant Peach (1996)': '5.0',\n",
       " '\"Ghost and Mrs. Muir': '4.0',\n",
       " 'Mission: Impossible (1996)': '3.0',\n",
       " 'Thunderball (1965)': '5.0',\n",
       " '\"Wizard of Oz': '5.0',\n",
       " '\"Fugitive': '5.0',\n",
       " 'Fargo (1996)': '5.0',\n",
       " 'Mr. Smith Goes to Washington (1939)': '5.0',\n",
       " '\"Rock': '4.0',\n",
       " 'Live and Let Die (1973)': '5.0',\n",
       " 'Escape to Witch Mountain (1975)': '3.0',\n",
       " 'That Thing You Do! (1996)': '4.0',\n",
       " 'Alice in Wonderland (1951)': '5.0',\n",
       " '\"Messenger: The Story of Joan of Arc': '5.0',\n",
       " \"She's the One (1996)\": '4.0',\n",
       " 'Easy Rider (1969)': '4.0',\n",
       " 'Blown Away (1994)': '3.0',\n",
       " 'Robin Hood (1973)': '5.0',\n",
       " 'Ed Wood (1994)': '4.0',\n",
       " 'So I Married an Axe Murderer (1993)': '4.0',\n",
       " '\"Three Musketeers': '4.0',\n",
       " '\"Green Mile': '5.0',\n",
       " \"Monty Python's Life of Brian (1979)\": '5.0',\n",
       " 'Tombstone (1993)': '5.0',\n",
       " 'Dumb & Dumber (Dumb and Dumber) (1994)': '5.0',\n",
       " 'Star Wars: Episode IV - A New Hope (1977)': '5.0',\n",
       " \"Schindler's List (1993)\": '5.0',\n",
       " 'Who Framed Roger Rabbit? (1988)': '5.0',\n",
       " 'Mrs. Doubtfire (1993)': '3.0',\n",
       " '\"Silence of the Lambs': '4.0',\n",
       " '\"Ghost and the Darkness': '5.0',\n",
       " 'Clerks (1994)': '3.0',\n",
       " 'Stargate (1994)': '3.0',\n",
       " 'Dances with Wolves (1990)': '4.0',\n",
       " 'Independence Day (a.k.a. ID4) (1996)': '3.0',\n",
       " 'Swingers (1996)': '4.0',\n",
       " 'Clear and Present Danger (1994)': '4.0',\n",
       " 'Pulp Fiction (1994)': '3.0',\n",
       " 'Willy Wonka & the Chocolate Factory (1971)': '5.0',\n",
       " 'Batman (1989)': '4.0',\n",
       " '\"Mask': '4.0',\n",
       " 'Desperado (1995)': '5.0'}"
      ]
     },
     "execution_count": 101,
     "metadata": {},
     "output_type": "execute_result"
    }
   ],
   "source": [
    "data['1']"
   ]
  },
  {
   "cell_type": "markdown",
   "metadata": {},
   "source": [
    "# user similarity"
   ]
  },
  {
   "cell_type": "markdown",
   "metadata": {},
   "source": [
    "## Euclidean"
   ]
  },
  {
   "cell_type": "markdown",
   "metadata": {},
   "source": [
    "计算两位user之间的相似度。每位user评论的电影不完全一样，利用他们共同评论过的电影计算欧式距离，得到user之间的相似度。\n",
    "\n",
    "这里返回值越小，相似度越大"
   ]
  },
  {
   "cell_type": "code",
   "execution_count": 110,
   "metadata": {},
   "outputs": [],
   "source": [
    "from math import *\n",
    "\n",
    "def Euclidean(user1,user2):\n",
    "    user1_data=data[user1]\n",
    "    user2_data=data[user2]\n",
    "    distance = 0\n",
    "    for key in user1_data.keys(): # 找到两位用户都评论过的电影，并计算欧式距离\n",
    "        if key in user2_data.keys():\n",
    "            distance += pow(float(user1_data[key])-float(user2_data[key]),2) #注意，distance越大表示两者越相似\n",
    " \n",
    "    return 1/(1+sqrt(distance))"
   ]
  },
  {
   "cell_type": "code",
   "execution_count": 121,
   "metadata": {},
   "outputs": [],
   "source": [
    "# 计算某个用户与其他用户的相似度\n",
    "def top10_simliar(userID, topn_user):\n",
    "    res = []\n",
    "    for userid in data.keys():\n",
    "        if not userid == userID: # 排除与自己计算相似度\n",
    "            simliar = Euclidean(userID,userid)\n",
    "            res.append((userid,simliar))\n",
    "    res.sort(key=lambda val:val[1])\n",
    "    return res[:topn_user]"
   ]
  },
  {
   "cell_type": "code",
   "execution_count": 122,
   "metadata": {},
   "outputs": [
    {
     "name": "stdout",
     "output_type": "stream",
     "text": [
      "[('68', 0.044330050969940915), ('599', 0.04807925798778345), ('217', 0.04843346156984026), ('160', 0.050181926468153115), ('474', 0.050965218942982136), ('603', 0.05144274016101998), ('608', 0.05197117210837889), ('288', 0.05228876018440262), ('600', 0.053398556747760055), ('313', 0.053908562784313496)]\n"
     ]
    }
   ],
   "source": [
    "RES = top10_simliar('1',10)\n",
    "print(RES)"
   ]
  },
  {
   "cell_type": "markdown",
   "metadata": {},
   "source": [
    "> 用户之间相似度结果：0表示两位的影评几乎一样，1表示没有共同的影评"
   ]
  },
  {
   "cell_type": "markdown",
   "metadata": {},
   "source": [
    "## Pearson相关系数"
   ]
  },
  {
   "cell_type": "markdown",
   "metadata": {},
   "source": [
    "但我们可能会碰到因为两个用户之间数据由于数据膨胀，一方数据大，一方数据小，但是两者称明显的线性关系——分数贬值。\n",
    "\n",
    "我们引入Pearson相关系数来衡量两个变量之间的线性相关性。范围[-1,1]，-1表示完全负相关，1表示完全正相关，0表示不相关              \n",
    "\n",
    "-|-\n",
    "---|---\n",
    "0.8-1.0 |极强相关\n",
    "0.6-0.8 |强相关\n",
    "0.4-0.6 |中等程度相关\n",
    "0.2-0.4 |弱相关\n",
    "0.0-0.2 |极弱相关或无相关"
   ]
  },
  {
   "cell_type": "code",
   "execution_count": 116,
   "metadata": {},
   "outputs": [
    {
     "name": "stdout",
     "output_type": "stream",
     "text": [
      "7 {'Conan the Barbarian (1982)': 1, 'Bambi (1942)': 1, 'Highlander (1986)': 1, '\"Road Warrior': 1, '\"Rescuers': 1, 'Tron (1982)': 1, \"Schindler's List (1993)\": 1}\n",
      "0.07981885710176334\n"
     ]
    }
   ],
   "source": [
    "def pearson_sim(user1,user2):\n",
    "    # 取出两位用户评论过的电影和评分\n",
    "    user1_data = data[user1]\n",
    "    user2_data = data[user2]\n",
    "    distance = 0\n",
    "    common = {}\n",
    " \n",
    "    # 找到两位用户都评论过的电影\n",
    "    for key in user1_data.keys():\n",
    "        if key in user2_data.keys():\n",
    "            common[key] = 1\n",
    "    if len(common) == 0:\n",
    "        return 0#如果没有共同评论过的电影，则返回0\n",
    "    n = len(common)#共同电影数目\n",
    "    print(n,common)\n",
    " \n",
    "    ##计算评分和\n",
    "    sum1 = sum([float(user1_data[movie]) for movie in common])\n",
    "    sum2 = sum([float(user2_data[movie]) for movie in common])\n",
    " \n",
    "    ##计算评分平方和\n",
    "    sum1Sq = sum([pow(float(user1_data[movie]),2) for movie in common])\n",
    "    sum2Sq = sum([pow(float(user2_data[movie]),2) for movie in common])\n",
    " \n",
    "    ##计算乘积和\n",
    "    PSum = sum([float(user1_data[it])*float(user2_data[it]) for it in common])\n",
    " \n",
    "    ##计算相关系数\n",
    "    num = PSum - (sum1*sum2/n)\n",
    "    den = sqrt((sum1Sq-pow(sum1,2)/n)*(sum2Sq-pow(sum2,2)/n))\n",
    "    if den == 0:\n",
    "        return 0\n",
    "    r = num/den\n",
    "    return r\n",
    " \n",
    "R = pearson_sim('1','3')\n",
    "print(R)"
   ]
  },
  {
   "cell_type": "markdown",
   "metadata": {},
   "source": [
    "# UserCF\n",
    "\n",
    "u2u2i"
   ]
  },
  {
   "cell_type": "markdown",
   "metadata": {},
   "source": [
    "根据用户推荐电影给其他人"
   ]
  },
  {
   "cell_type": "code",
   "execution_count": 124,
   "metadata": {},
   "outputs": [
    {
     "name": "stdout",
     "output_type": "stream",
     "text": [
      "[('Pulp Fiction (1994)', '5.0'), ('Mulholland Drive (2001)', '5.0'), ('Zoolander (2001)', '5.0'), ('Donnie Darko (2001)', '5.0'), (\"Rosemary's Baby (1968)\", '5.0'), ('Horrible Bosses (2011)', '5.0'), ('Cast Away (2000)', '5.0'), ('Wild Tales (2014)', '5.0'), ('\"Clockwork Orange', '5.0'), ('Along Came Polly (2004)', '5.0')]\n"
     ]
    }
   ],
   "source": [
    "def recommend(user, topn_item, topn_user):\n",
    "    top_sim_user = top10_simliar(user, topn_user)[0][0]      # 相似度最高的用户\n",
    "    items = data[top_sim_user]                               # 相似度最高的用户的观影记录\n",
    "    recommendations = []\n",
    "    for item in items.keys():                                # 筛选出该用户未观看的电影并添加到列表中\n",
    "        if item not in data[user].keys():\n",
    "            recommendations.append((item,items[item]))\n",
    "    recommendations.sort(key=lambda val:val[1],reverse=True) # 按照评分排序\n",
    "    return recommendations[:topn_item]                       # 返回评分最高的10部电影\n",
    " \n",
    "Recommendations = recommend('2', 10, 4)\n",
    "print(Recommendations)"
   ]
  },
  {
   "cell_type": "markdown",
   "metadata": {},
   "source": [
    "# ItemCF"
   ]
  },
  {
   "cell_type": "code",
   "execution_count": null,
   "metadata": {},
   "outputs": [],
   "source": []
  }
 ],
 "metadata": {
  "kernelspec": {
   "display_name": "Python 3",
   "language": "python",
   "name": "python3"
  },
  "language_info": {
   "codemirror_mode": {
    "name": "ipython",
    "version": 3
   },
   "file_extension": ".py",
   "mimetype": "text/x-python",
   "name": "python",
   "nbconvert_exporter": "python",
   "pygments_lexer": "ipython3",
   "version": "3.7.5"
  }
 },
 "nbformat": 4,
 "nbformat_minor": 4
}
