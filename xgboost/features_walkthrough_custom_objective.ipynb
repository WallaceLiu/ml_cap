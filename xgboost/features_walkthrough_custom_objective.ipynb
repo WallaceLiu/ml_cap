{
 "cells": [
  {
   "cell_type": "markdown",
   "metadata": {},
   "source": [
    "# Customize loss function, and evaluation metric"
   ]
  },
  {
   "cell_type": "code",
   "execution_count": 2,
   "metadata": {},
   "outputs": [],
   "source": [
    "#!/usr/bin/python\n",
    "import numpy as np\n",
    "import xgboost as xgb"
   ]
  },
  {
   "cell_type": "code",
   "execution_count": 3,
   "metadata": {},
   "outputs": [
    {
     "name": "stdout",
     "output_type": "stream",
     "text": [
      "start running example to used customized objective function\n",
      "[22:27:36] 6513x127 matrix with 143286 entries loaded from ./data/agaricus.txt.train\n",
      "[22:27:36] 1611x127 matrix with 35442 entries loaded from ./data/agaricus.txt.test\n"
     ]
    }
   ],
   "source": [
    "###\n",
    "# advanced: customized loss function\n",
    "#\n",
    "print ('start running example to used customized objective function')\n",
    "\n",
    "dtrain = xgb.DMatrix('./data/agaricus.txt.train')\n",
    "dtest = xgb.DMatrix('./data/agaricus.txt.test')"
   ]
  },
  {
   "cell_type": "code",
   "execution_count": 4,
   "metadata": {},
   "outputs": [],
   "source": [
    "# note: for customized objective function, we leave objective as default\n",
    "# note: what we are getting is margin value in prediction\n",
    "# you must know what you are doing\n",
    "param = {'max_depth': 2, 'eta': 1, 'silent': 1}\n",
    "watchlist = [(dtest, 'eval'), (dtrain, 'train')]\n",
    "num_round = 2"
   ]
  },
  {
   "cell_type": "code",
   "execution_count": 5,
   "metadata": {},
   "outputs": [
    {
     "name": "stdout",
     "output_type": "stream",
     "text": [
      "[0]\teval-rmse:1.59229\ttrain-rmse:1.59597\teval-error:0.042831\ttrain-error:0.046522\n",
      "[1]\teval-rmse:2.40519\ttrain-rmse:2.40977\teval-error:0.021726\ttrain-error:0.022263\n"
     ]
    }
   ],
   "source": [
    "# user define objective function, given prediction, return gradient and second order gradient\n",
    "# this is log likelihood loss\n",
    "def logregobj(preds, dtrain):\n",
    "    labels = dtrain.get_label()\n",
    "    preds = 1.0 / (1.0 + np.exp(-preds))\n",
    "    grad = preds - labels\n",
    "    hess = preds * (1.0-preds)\n",
    "    return grad, hess\n",
    "\n",
    "# user defined evaluation function, return a pair metric_name, result\n",
    "# NOTE: when you do customized loss function, the default prediction value is margin\n",
    "# this may make builtin evaluation metric not function properly\n",
    "# for example, we are doing logistic loss, the prediction is score before logistic transformation\n",
    "# the builtin evaluation error assumes input is after logistic transformation\n",
    "# Take this in mind when you use the customization, and maybe you need write customized evaluation function\n",
    "def evalerror(preds, dtrain):\n",
    "    labels = dtrain.get_label()\n",
    "    # return a pair metric_name, result\n",
    "    # since preds are margin(before logistic transformation, cutoff at 0)\n",
    "    return 'error', float(sum(labels != (preds > 0.0))) / len(labels)\n",
    "\n",
    "# training with customized objective, we can also do step by step training\n",
    "# simply look at xgboost.py's implementation of train\n",
    "bst = xgb.train(param, dtrain, num_round, watchlist, logregobj, evalerror)\n"
   ]
  },
  {
   "cell_type": "code",
   "execution_count": null,
   "metadata": {},
   "outputs": [],
   "source": []
  }
 ],
 "metadata": {
  "kernelspec": {
   "display_name": "Python 3",
   "language": "python",
   "name": "python3"
  },
  "language_info": {
   "codemirror_mode": {
    "name": "ipython",
    "version": 3
   },
   "file_extension": ".py",
   "mimetype": "text/x-python",
   "name": "python",
   "nbconvert_exporter": "python",
   "pygments_lexer": "ipython3",
   "version": "3.7.5"
  }
 },
 "nbformat": 4,
 "nbformat_minor": 4
}
