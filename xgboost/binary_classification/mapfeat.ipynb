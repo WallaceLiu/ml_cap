{
 "cells": [
  {
   "cell_type": "code",
   "execution_count": 9,
   "metadata": {},
   "outputs": [],
   "source": [
    "def loadfmap( fname ):\n",
    "    fmap = {}\n",
    "    nmap = {}\n",
    "\n",
    "    for l in open( fname ):\n",
    "        arr = l.split()\n",
    "        if arr[0].find('.') != -1:\n",
    "            idx = int( arr[0].strip('.') )\n",
    "            assert idx not in fmap\n",
    "            fmap[ idx ] = {}\n",
    "            ftype = arr[1].strip(':')\n",
    "            content = arr[2]\n",
    "        else:\n",
    "            content = arr[0]\n",
    "            \n",
    "        for it in content.split(','):\n",
    "            if it.strip() == '':\n",
    "                continue\n",
    "            k , v = it.split('=')\n",
    "            fmap[ idx ][ v ] = len(nmap) + 1\n",
    "            nmap[ len(nmap) ] = ftype+'='+k\n",
    "    return fmap, nmap\n",
    "\n",
    "def write_nmap( fo, nmap ):\n",
    "    for i in range( len(nmap) ):\n",
    "        fo.write('%d\\t%s\\ti\\n' % (i, nmap[i]) )"
   ]
  },
  {
   "cell_type": "code",
   "execution_count": 10,
   "metadata": {},
   "outputs": [
    {
     "name": "stdout",
     "output_type": "stream",
     "text": [
      "['1.', 'cap-shape:', 'bell=b,conical=c,convex=x,flat=f,knobbed=k,sunken=s']\n",
      "['2.', 'cap-surface:', 'fibrous=f,grooves=g,scaly=y,smooth=s']\n",
      "['3.', 'cap-color:', 'brown=n,buff=b,cinnamon=c,gray=g,green=r,pink=p,purple=u,red=e,white=w,yellow=y']\n",
      "['4.', 'bruises?:', 'bruises=t,no=f']\n",
      "['5.', 'odor:', 'almond=a,anise=l,creosote=c,fishy=y,foul=f,']\n",
      "['musty=m,none=n,pungent=p,spicy=s']\n",
      "['6.', 'gill-attachment:', 'attached=a,descending=d,free=f,notched=n']\n",
      "['7.', 'gill-spacing:', 'close=c,crowded=w,distant=d']\n",
      "['8.', 'gill-size:', 'broad=b,narrow=n']\n",
      "['9.', 'gill-color:', 'black=k,brown=n,buff=b,chocolate=h,gray=g,']\n",
      "['green=r,orange=o,pink=p,purple=u,red=e,']\n",
      "['white=w,yellow=y']\n",
      "['10.', 'stalk-shape:', 'enlarging=e,tapering=t']\n",
      "['11.', 'stalk-root:', 'bulbous=b,club=c,cup=u,equal=e,']\n",
      "['rhizomorphs=z,rooted=r,missing=?']\n",
      "['12.', 'stalk-surface-above-ring:', 'fibrous=f,scaly=y,silky=k,smooth=s']\n",
      "['13.', 'stalk-surface-below-ring:', 'fibrous=f,scaly=y,silky=k,smooth=s']\n",
      "['14.', 'stalk-color-above-ring:', 'brown=n,buff=b,cinnamon=c,gray=g,orange=o,']\n",
      "['pink=p,red=e,white=w,yellow=y']\n",
      "['15.', 'stalk-color-below-ring:', 'brown=n,buff=b,cinnamon=c,gray=g,orange=o,']\n",
      "['pink=p,red=e,white=w,yellow=y']\n",
      "['16.', 'veil-type:', 'partial=p,universal=u']\n",
      "['17.', 'veil-color:', 'brown=n,orange=o,white=w,yellow=y']\n",
      "['18.', 'ring-number:', 'none=n,one=o,two=t']\n",
      "['19.', 'ring-type:', 'cobwebby=c,evanescent=e,flaring=f,large=l,']\n",
      "['none=n,pendant=p,sheathing=s,zone=z']\n",
      "['20.', 'spore-print-color:', 'black=k,brown=n,buff=b,chocolate=h,green=r,']\n",
      "['orange=o,purple=u,white=w,yellow=y']\n",
      "['21.', 'population:', 'abundant=a,clustered=c,numerous=n,']\n",
      "['scattered=s,several=v,solitary=y']\n",
      "['22.', 'habitat:', 'grasses=g,leaves=l,meadows=m,paths=p,']\n",
      "['urban=u,waste=w,woods=d']\n"
     ]
    }
   ],
   "source": [
    "# start here\n",
    "fmap, nmap = loadfmap( 'agaricus-lepiota.fmap' )\n",
    "fo = open( 'featmap.txt', 'w' )\n",
    "write_nmap( fo, nmap )\n",
    "fo.close()"
   ]
  },
  {
   "cell_type": "code",
   "execution_count": 12,
   "metadata": {},
   "outputs": [
    {
     "name": "stdout",
     "output_type": "stream",
     "text": [
      "nmap {0: 'cap-shape=bell', 1: 'cap-shape=conical', 2: 'cap-shape=convex', 3: 'cap-shape=flat', 4: 'cap-shape=knobbed', 5: 'cap-shape=sunken', 6: 'cap-surface=fibrous', 7: 'cap-surface=grooves', 8: 'cap-surface=scaly', 9: 'cap-surface=smooth', 10: 'cap-color=brown', 11: 'cap-color=buff', 12: 'cap-color=cinnamon', 13: 'cap-color=gray', 14: 'cap-color=green', 15: 'cap-color=pink', 16: 'cap-color=purple', 17: 'cap-color=red', 18: 'cap-color=white', 19: 'cap-color=yellow', 20: 'bruises?=bruises', 21: 'bruises?=no', 22: 'odor=almond', 23: 'odor=anise', 24: 'odor=creosote', 25: 'odor=fishy', 26: 'odor=foul', 27: 'odor=musty', 28: 'odor=none', 29: 'odor=pungent', 30: 'odor=spicy', 31: 'gill-attachment=attached', 32: 'gill-attachment=descending', 33: 'gill-attachment=free', 34: 'gill-attachment=notched', 35: 'gill-spacing=close', 36: 'gill-spacing=crowded', 37: 'gill-spacing=distant', 38: 'gill-size=broad', 39: 'gill-size=narrow', 40: 'gill-color=black', 41: 'gill-color=brown', 42: 'gill-color=buff', 43: 'gill-color=chocolate', 44: 'gill-color=gray', 45: 'gill-color=green', 46: 'gill-color=orange', 47: 'gill-color=pink', 48: 'gill-color=purple', 49: 'gill-color=red', 50: 'gill-color=white', 51: 'gill-color=yellow', 52: 'stalk-shape=enlarging', 53: 'stalk-shape=tapering', 54: 'stalk-root=bulbous', 55: 'stalk-root=club', 56: 'stalk-root=cup', 57: 'stalk-root=equal', 58: 'stalk-root=rhizomorphs', 59: 'stalk-root=rooted', 60: 'stalk-root=missing', 61: 'stalk-surface-above-ring=fibrous', 62: 'stalk-surface-above-ring=scaly', 63: 'stalk-surface-above-ring=silky', 64: 'stalk-surface-above-ring=smooth', 65: 'stalk-surface-below-ring=fibrous', 66: 'stalk-surface-below-ring=scaly', 67: 'stalk-surface-below-ring=silky', 68: 'stalk-surface-below-ring=smooth', 69: 'stalk-color-above-ring=brown', 70: 'stalk-color-above-ring=buff', 71: 'stalk-color-above-ring=cinnamon', 72: 'stalk-color-above-ring=gray', 73: 'stalk-color-above-ring=orange', 74: 'stalk-color-above-ring=pink', 75: 'stalk-color-above-ring=red', 76: 'stalk-color-above-ring=white', 77: 'stalk-color-above-ring=yellow', 78: 'stalk-color-below-ring=brown', 79: 'stalk-color-below-ring=buff', 80: 'stalk-color-below-ring=cinnamon', 81: 'stalk-color-below-ring=gray', 82: 'stalk-color-below-ring=orange', 83: 'stalk-color-below-ring=pink', 84: 'stalk-color-below-ring=red', 85: 'stalk-color-below-ring=white', 86: 'stalk-color-below-ring=yellow', 87: 'veil-type=partial', 88: 'veil-type=universal', 89: 'veil-color=brown', 90: 'veil-color=orange', 91: 'veil-color=white', 92: 'veil-color=yellow', 93: 'ring-number=none', 94: 'ring-number=one', 95: 'ring-number=two', 96: 'ring-type=cobwebby', 97: 'ring-type=evanescent', 98: 'ring-type=flaring', 99: 'ring-type=large', 100: 'ring-type=none', 101: 'ring-type=pendant', 102: 'ring-type=sheathing', 103: 'ring-type=zone', 104: 'spore-print-color=black', 105: 'spore-print-color=brown', 106: 'spore-print-color=buff', 107: 'spore-print-color=chocolate', 108: 'spore-print-color=green', 109: 'spore-print-color=orange', 110: 'spore-print-color=purple', 111: 'spore-print-color=white', 112: 'spore-print-color=yellow', 113: 'population=abundant', 114: 'population=clustered', 115: 'population=numerous', 116: 'population=scattered', 117: 'population=several', 118: 'population=solitary', 119: 'habitat=grasses', 120: 'habitat=leaves', 121: 'habitat=meadows', 122: 'habitat=paths', 123: 'habitat=urban', 124: 'habitat=waste', 125: 'habitat=woods'}\n",
      "fmap {1: {'b': 1, 'c': 2, 'x': 3, 'f': 4, 'k': 5, 's': 6}, 2: {'f': 7, 'g': 8, 'y': 9, 's': 10}, 3: {'n': 11, 'b': 12, 'c': 13, 'g': 14, 'r': 15, 'p': 16, 'u': 17, 'e': 18, 'w': 19, 'y': 20}, 4: {'t': 21, 'f': 22}, 5: {'a': 23, 'l': 24, 'c': 25, 'y': 26, 'f': 27, 'm': 28, 'n': 29, 'p': 30, 's': 31}, 6: {'a': 32, 'd': 33, 'f': 34, 'n': 35}, 7: {'c': 36, 'w': 37, 'd': 38}, 8: {'b': 39, 'n': 40}, 9: {'k': 41, 'n': 42, 'b': 43, 'h': 44, 'g': 45, 'r': 46, 'o': 47, 'p': 48, 'u': 49, 'e': 50, 'w': 51, 'y': 52}, 10: {'e': 53, 't': 54}, 11: {'b': 55, 'c': 56, 'u': 57, 'e': 58, 'z': 59, 'r': 60, '?': 61}, 12: {'f': 62, 'y': 63, 'k': 64, 's': 65}, 13: {'f': 66, 'y': 67, 'k': 68, 's': 69}, 14: {'n': 70, 'b': 71, 'c': 72, 'g': 73, 'o': 74, 'p': 75, 'e': 76, 'w': 77, 'y': 78}, 15: {'n': 79, 'b': 80, 'c': 81, 'g': 82, 'o': 83, 'p': 84, 'e': 85, 'w': 86, 'y': 87}, 16: {'p': 88, 'u': 89}, 17: {'n': 90, 'o': 91, 'w': 92, 'y': 93}, 18: {'n': 94, 'o': 95, 't': 96}, 19: {'c': 97, 'e': 98, 'f': 99, 'l': 100, 'n': 101, 'p': 102, 's': 103, 'z': 104}, 20: {'k': 105, 'n': 106, 'b': 107, 'h': 108, 'r': 109, 'o': 110, 'u': 111, 'w': 112, 'y': 113}, 21: {'a': 114, 'c': 115, 'n': 116, 's': 117, 'v': 118, 'y': 119}, 22: {'g': 120, 'l': 121, 'm': 122, 'p': 123, 'u': 124, 'w': 125, 'd': 126}}\n"
     ]
    }
   ],
   "source": [
    "print('nmap', nmap)\n",
    "print('fmap', fmap)"
   ]
  },
  {
   "cell_type": "code",
   "execution_count": null,
   "metadata": {},
   "outputs": [],
   "source": [
    "fo = open( 'agaricus.txt', 'w' )\n",
    "for l in open( 'agaricus-lepiota.data' ):\n",
    "    arr = l.split(',')\n",
    "    if arr[0] == 'p':\n",
    "        fo.write('1')\n",
    "    else:\n",
    "        assert arr[0] == 'e'\n",
    "        fo.write('0')\n",
    "    \n",
    "    # x,s,n,t,p,f,c,n,k,e,e,s,s,w,w,p,w,o,p,k,s,u\n",
    "    for i in range( 1,len(arr) ):\n",
    "        fo.write( ' %d:1' % fmap[i][arr[i].strip()] )\n",
    "    fo.write('\\n')\n",
    "\n",
    "fo.close()"
   ]
  }
 ],
 "metadata": {
  "kernelspec": {
   "display_name": "Python 3",
   "language": "python",
   "name": "python3"
  },
  "language_info": {
   "codemirror_mode": {
    "name": "ipython",
    "version": 3
   },
   "file_extension": ".py",
   "mimetype": "text/x-python",
   "name": "python",
   "nbconvert_exporter": "python",
   "pygments_lexer": "ipython3",
   "version": "3.7.5"
  }
 },
 "nbformat": 4,
 "nbformat_minor": 4
}
