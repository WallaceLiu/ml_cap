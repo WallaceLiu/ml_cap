{
 "cells": [
  {
   "cell_type": "markdown",
   "metadata": {},
   "source": [
    "# Binary Classification\n",
    "\n",
    "https://github.com/WallaceLiu/xgboost/tree/master/demo/binary_classification"
   ]
  },
  {
   "cell_type": "markdown",
   "metadata": {},
   "source": [
    "This is the quick start tutorial for xgboost CLI version.\n",
    "Here we demonstrate how to use XGBoost for a binary classification task. Before getting started, make sure you compile xgboost in the root directory of the project by typing ```make```\n",
    "The script runexp.sh can be used to run the demo. Here we use [mushroom dataset](https://archive.ics.uci.edu/ml/datasets/Mushroom) from UCI machine learning repository."
   ]
  },
  {
   "cell_type": "markdown",
   "metadata": {},
   "source": [
    "# Tutorial\n",
    "## Generate Input Data\n",
    "XGBoost takes LibSVM format. An example of faked input data is below:\n",
    "```\n",
    "1 101:1.2 102:0.03\n",
    "0 1:2.1 10001:300 10002:400\n",
    "...\n",
    "```"
   ]
  },
  {
   "cell_type": "markdown",
   "metadata": {},
   "source": [
    "Each line represent a single instance, and in the first line '1' is the instance label,'101' and '102' are feature indices, '1.2' and '0.03' are feature values. In the binary classification case, '1' is used to indicate positive samples, and '0' is used to indicate negative samples. We also support probability values in [0,1] as label, to indicate the probability of the instance being positive."
   ]
  },
  {
   "cell_type": "markdown",
   "metadata": {},
   "source": [
    "首先，把数据集转换成 LibSVM 格式，并且，通过如下脚本，把数据划分成训练数据集和测试数据集:\n",
    "```python\n",
    "python mapfeat.py\n",
    "python mknfold.py agaricus.txt 1\n",
    "```\n",
    "The two files, 'agaricus.txt.train' and 'agaricus.txt.test' will be used as training set and test set."
   ]
  },
  {
   "cell_type": "markdown",
   "metadata": {},
   "source": [
    "## Training\n",
    "然后，通过如下命令进行训练:\n",
    "```\n",
    "../../xgboost mushroom.conf\n",
    "```\n",
    "\n",
    "mushroom.conf 是训练和测试的配置文件. 每行是 [attribute]=[value] 形式:\n",
    "\n",
    "```conf\n",
    "# General Parameters, see comment for each definition\n",
    "# can be gbtree or gblinear\n",
    "booster = gbtree\n",
    "# choose logistic regression loss function for binary classification\n",
    "objective = binary:logistic\n",
    "\n",
    "# Tree Booster Parameters\n",
    "# step size shrinkage\n",
    "eta = 1.0\n",
    "# minimum loss reduction required to make a further partition\n",
    "gamma = 1.0\n",
    "# minimum sum of instance weight(hessian) needed in a child\n",
    "min_child_weight = 1\n",
    "# maximum depth of a tree\n",
    "max_depth = 3\n",
    "\n",
    "# Task Parameters\n",
    "# the number of round to do boosting\n",
    "num_round = 2\n",
    "# 0 means do not save any model except the final round model\n",
    "save_period = 0\n",
    "# The path of training data\n",
    "data = \"agaricus.txt.train\"\n",
    "# The path of validation data, used to monitor training process, here [test] sets name of the validation set\n",
    "eval[test] = \"agaricus.txt.test\"\n",
    "# The path of test data\n",
    "test:data = \"agaricus.txt.test\"\n",
    "```\n",
    "在设置中，我们使用 tree booster 和 logistic regression objective. This indicates that we accomplish our task using classic gradient boosting regression tree(GBRT), which is a promising method for binary classification."
   ]
  },
  {
   "cell_type": "markdown",
   "metadata": {},
   "source": [
    "上面参数是xgboost最常使用的参数.\n",
    "If you are interested in more parameter settings, the complete parameter settings and detailed descriptions are [here](../../doc/parameter.md). Besides putting the parameters in the configuration file, we can set them by passing them as arguments as below:\n",
    "\n",
    "```\n",
    "../../xgboost mushroom.conf max_depth=6\n",
    "```\n",
    "This means that the parameter max_depth will be set as 6 rather than 3 in the conf file. When you use command line, make sure max_depth=6 is passed in as single argument, i.e. do not contain space in the argument. When a parameter setting is provided in both command line input and  the config file, the command line setting will override the setting in config file.\n",
    "\n",
    "In this example, we use tree booster for gradient boosting. If you would like to use linear booster for regression, you can keep all the parameters except booster and the tree booster parameters as below:\n",
    "```conf\n",
    "# General Parameters\n",
    "# choose the linear booster\n",
    "booster = gblinear\n",
    "...\n",
    "\n",
    "# Change Tree Booster Parameters into Linear Booster Parameters\n",
    "# L2 regularization term on weights, default 0\n",
    "lambda = 0.01\n",
    "# L1 regularization term on weights, default 0\n",
    "f ```agaricus.txt.test.buffer``` exists, and automatically loads from binary buffer if possible, this can speedup training process when you do training many times. You can disable it by setting ```use_buffer=0```.\n",
    "  - Buffer file can also be used as standalone input, i.e if buffer file exists, but original agaricus.txt.test was removed, xgboost will still run\n",
    "* Deviation from LibSVM input format: xgboost is compatible with LibSVM format, with the following minor differences:\n",
    "  - xgboost allows feature index starts from 0\n",
    "  - for binary classification, the label is 1 for positive, 0 for negative, instead of +1,-1\n",
    "  - the feature indices in each line *do not* need to be sorted\n",
    "alpha = 0.01\n",
    "# L2 regularization term on bias, default 0\n",
    "lambda_bias = 0.01\n",
    "\n",
    "# Regression Parameters\n",
    "...\n",
    "```"
   ]
  },
  {
   "cell_type": "markdown",
   "metadata": {},
   "source": [
    "## Get Predictions\n",
    "After training, we can use the output model to get the prediction of the test data:\n",
    "```\n",
    "../../xgboost mushroom.conf task=pred model_in=0002.model\n",
    "```\n",
    "对二分类问题, the output predictions are probability confidence scores in [0,1], corresponds to the probability of the label to be positive."
   ]
  },
  {
   "cell_type": "markdown",
   "metadata": {},
   "source": [
    "## Dump Model\n",
    "This is a preliminary feature, so far only tree model support text dump. XGBoost can display the tree models in text files and we can scan the model in an easy way:\n",
    "```\n",
    "../../xgboost mushroom.conf task=dump model_in=0002.model name_dump=dump.raw.txt\n",
    "../../xgboost mushroom.conf task=dump model_in=0002.model fmap=featmap.txt name_dump=dump.nice.txt\n",
    "```\n",
    "\n",
    "In this demo, the tree boosters obtained will be printed in dump.raw.txt and dump.nice.txt, and the latter one is easier to understand because of usage of feature mapping featmap.txt\n",
    "\n",
    "Format of ```featmap.txt: <featureid> <featurename> <q or i or int>\\n ```:\n",
    "  - Feature id must be from 0 to number of features, in sorted order.\n",
    "  - i means this feature is binary indicator feature\n",
    "  - q means this feature is a quantitative value, such as age, time, can be missing\n",
    "  - int means this feature is integer value (when int is hinted, the decision boundary will be integer)"
   ]
  },
  {
   "cell_type": "markdown",
   "metadata": {},
   "source": [
    "## Monitoring Progress\n",
    "When you run training we can find there are messages displayed on screen\n",
    "```\n",
    "tree train end, 1 roots, 12 extra nodes, 0 pruned nodes ,max_depth=3\n",
    "[0]  test-error:0.016139\n",
    "boosting round 1, 0 sec elapsed\n",
    "\n",
    "tree train end, 1 roots, 10 extra nodes, 0 pruned nodes ,max_depth=3\n",
    "[1]  test-error:0.000000\n",
    "```\n",
    "The messages for evaluation are printed into stderr, so if you want only to log the evaluation progress, simply type\n",
    "```\n",
    "../../xgboost mushroom.conf 2>log.txt\n",
    "```\n",
    "Then you can find the following content in log.txt\n",
    "```\n",
    "[0]     test-error:0.016139\n",
    "[1]     test-error:0.000000\n",
    "```\n",
    "We can also monitor both training and test statistics, by adding following lines to configure\n",
    "```conf\n",
    "eval[test] = \"agaricus.txt.test\"\n",
    "eval[trainname] = \"agaricus.txt.train\"\n",
    "```\n",
    "Run the command again, we can find the log file becomes\n",
    "```\n",
    "[0]     test-error:0.016139     trainname-error:0.014433\n",
    "[1]     test-error:0.000000     trainname-error:0.001228\n",
    "```\n",
    "The rule is eval[name-printed-in-log] = filename, then the file will be added to monitoring process, and evaluated each round.\n",
    "\n",
    "xgboost also supports monitoring multiple metrics, suppose we also want to monitor average log-likelihood of each prediction during training, simply add ```eval_metric=logloss``` to configure. Run again, we can find the log file becomes\n",
    "```\n",
    "[0]     test-error:0.016139     test-negllik:0.029795   trainname-error:0.014433        trainname-negllik:0.027023\n",
    "[1]     test-error:0.000000     test-negllik:0.000000   trainname-error:0.001228        trainname-negllik:0.002457\n",
    "```\n"
   ]
  },
  {
   "cell_type": "markdown",
   "metadata": {},
   "source": [
    "# Saving Progress Models\n",
    "If you want to save model every two round, simply set save_period=2. You will find 0002.model in the current folder. If you want to change the output folder of models, add model_dir=foldername. By default xgboost saves the model of last round."
   ]
  },
  {
   "cell_type": "markdown",
   "metadata": {},
   "source": [
    "## Continue from Existing Model\n",
    "If you want to continue boosting from existing model, say 0002.model, use\n",
    "```\n",
    "../../xgboost mushroom.conf model_in=0002.model num_round=2 model_out=continue.model\n",
    "```\n",
    "xgboost will load from 0002.model continue boosting for 2 rounds, and save output to continue.model. However, beware that the training and evaluation data specified in mushroom.conf should not change when you use this function."
   ]
  },
  {
   "cell_type": "markdown",
   "metadata": {},
   "source": [
    "## Use Multi-Threading\n",
    "When you are working with a large dataset, you may want to take advantage of parallelism. If your compiler supports OpenMP, xgboost is naturally multi-threaded, to set number of parallel running add ```nthread``` parameter to you configuration.\n",
    "Eg. ```nthread=10```\n",
    "\n",
    "Set nthread to be the number of your real cpu (On Unix, this can be found using ```lscpu```)\n",
    "Some systems will have ```Thread(s) per core = 2```, for example, a 4 core cpu with 8 threads, in such case set ```nthread=4``` and not 8.\n",
    "\n"
   ]
  },
  {
   "cell_type": "code",
   "execution_count": null,
   "metadata": {},
   "outputs": [],
   "source": []
  }
 ],
 "metadata": {
  "kernelspec": {
   "display_name": "Python 3",
   "language": "python",
   "name": "python3"
  },
  "language_info": {
   "codemirror_mode": {
    "name": "ipython",
    "version": 3
   },
   "file_extension": ".py",
   "mimetype": "text/x-python",
   "name": "python",
   "nbconvert_exporter": "python",
   "pygments_lexer": "ipython3",
   "version": "3.7.5"
  }
 },
 "nbformat": 4,
 "nbformat_minor": 4
}
