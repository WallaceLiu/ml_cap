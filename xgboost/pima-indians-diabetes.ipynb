{
 "cells": [
  {
   "cell_type": "markdown",
   "metadata": {},
   "source": [
    "https://machinelearningmastery.com/xgboost-python-mini-course/\n",
    "\n",
    "https://machinelearningmastery.com/develop-first-xgboost-model-python-scikit-learn/\n",
    "\n",
    "https://machinelearningmastery.com/visualize-gradient-boosting-decision-trees-xgboost-python/"
   ]
  },
  {
   "cell_type": "markdown",
   "metadata": {},
   "source": [
    "二分类问题，判断病人是否会在5年内患糖尿病。"
   ]
  },
  {
   "cell_type": "markdown",
   "metadata": {},
   "source": [
    "# 1. Gradient Boosting"
   ]
  },
  {
   "cell_type": "markdown",
   "metadata": {},
   "source": [
    "Gradient boosting 是构建预测模型最有力的技术.\n",
    "\n",
    "The idea of boosting came out of the idea of whether a weak learner can be modified to become better. The first realization of boosting that saw great success in application was Adaptive Boosting or AdaBoost for short. The weak learners in AdaBoost are decision trees with a single split, called decision stumps for their shortness.\n",
    "\n",
    "AdaBoost and related algorithms were recast in a statistical framework and became known as Gradient Boosting Machines. The statistical framework cast boosting as a numerical optimization problem where the objective is to minimize the loss of the model by adding weak learners using a gradient descent like procedure, hence the name.\n",
    "\n",
    "Gradient Boosting涉及三个要素:\n",
    "\n",
    "1. A loss function to be optimized, such as cross entropy for classification or mean squared error for regression problems.\n",
    "2. A weak learner to make predictions, such as a greedily constructed decision tree.\n",
    "3. An additive model, used to add weak learners to minimize the loss function.\n",
    "\n",
    "New weak learners are added to the model in an effort to correct the residual errors of all previous trees. The result is a powerful predictive modeling algorithm, perhaps more powerful than random forest."
   ]
  },
  {
   "cell_type": "markdown",
   "metadata": {},
   "source": [
    "# 2. XGBoost"
   ]
  },
  {
   "cell_type": "markdown",
   "metadata": {},
   "source": [
    "XGBoost is an implementation of gradient boosted decision trees designed for speed and performance.\n",
    "\n",
    "XGBoost 表示 eXtreme Gradient Boosting.\n",
    "\n",
    "It was developed by Tianqi Chen and is laser focused on computational speed and model performance, as such there are few frills.\n",
    "\n",
    "In addition to supporting all key variations of the technique, the real interest is the speed provided by the careful engineering of the implementation, including:\n",
    "\n",
    "- Parallelization of tree construction using all of your CPU cores during training.\n",
    "- Distributed Computing for training very large models using a cluster of machines.\n",
    "- Out-of-Core Computing for very large datasets that don’t fit into memory.\n",
    "- Cache Optimization of data structures and algorithms to make best use of hardware.\n",
    "\n",
    "Traditionally, gradient boosting implementations are slow because of the sequential nature in which each tree must be constructed and added to the model.\n",
    "\n",
    "The on performance in the development of XGBoost has resulted in one of the best predictive modeling algorithms that can now harness the full capability of your hardware platform, or very large computers you might rent in the cloud.\n",
    "\n",
    "As such, XGBoost has been a cornerstone in competitive machine learning, being the technique used to win and recommended by winners. For example, here is what some recent Kaggle competition winners have said:\n"
   ]
  },
  {
   "cell_type": "markdown",
   "metadata": {},
   "source": [
    "# 3. XGBoost Model"
   ]
  },
  {
   "cell_type": "markdown",
   "metadata": {},
   "source": [
    "[XGBoost Installation Instructions](http://xgboost.readthedocs.io/en/latest/build.html)\n",
    "\n",
    "XGBoost 在 scikit-learn 中有包装类可直接使用, 分类问题`XGBClassifier`和回归问题`XGBRegressor`.\n",
    "\n",
    "This is the recommended way to use XGBoost in Python.\n",
    "\n",
    "下载 [Pima Indians onset of diabetes dataset](https://yunpan.360.cn/surl_ySjyF2INmvt).\n",
    "\n",
    "数据集列说明：\n",
    "1. Number of times pregnant\n",
    "2. Plasma glucose concentration a 2 hours in an oral glucose tolerance test\n",
    "3. Diastolic blood pressure (mm Hg)\n",
    "4. Triceps skin fold thickness (mm)\n",
    "5. 2-Hour serum insulin (mu U/ml)\n",
    "6. Body mass index (weight in kg/(height in m)^2)\n",
    "7. Diabetes pedigree function\n",
    "8. Age (years)\n",
    "9. Class variable (0 or 1)\n",
    "\n",
    "It is a good test dataset for binary classification as all input variables are numeric, meaning the problem can be modeled directly with no data preparation.\n",
    "\n",
    "通过创建**[XGBClassifier](https://xgboost.readthedocs.io/en/latest/python/python_api.html#module-xgboost.sklearn)**实例，并调用`model.fit()`函数，为分类问题训练XGBoost模型:\n",
    "```\n",
    "model = XGBClassifier()\n",
    "model.fit(X_train, y_train)\n",
    "```\n",
    "通过在新数据上调用`model.predict()`函数来预测.\n",
    "```\n",
    "y_pred = model.predict(X_test)\n",
    "```"
   ]
  },
  {
   "cell_type": "markdown",
   "metadata": {},
   "source": [
    "完整代码如下:"
   ]
  },
  {
   "cell_type": "code",
   "execution_count": 2,
   "metadata": {},
   "outputs": [
    {
     "name": "stdout",
     "output_type": "stream",
     "text": [
      "Accuracy: 77.95%\n"
     ]
    }
   ],
   "source": [
    "# First XGBoost model for Pima Indians dataset\n",
    "from numpy import loadtxt\n",
    "from xgboost import XGBClassifier\n",
    "from sklearn.model_selection import train_test_split\n",
    "from sklearn.metrics import accuracy_score\n",
    "\n",
    "# 加载数据集\n",
    "dataset = loadtxt('/Users/cap/data/pima-indians-diabetes.csv', delimiter=\",\")\n",
    "\n",
    "# 分出变量和标签\n",
    "X = dataset[:,0:8]\n",
    "Y = dataset[:,8]\n",
    "\n",
    "# split data into train and test sets\n",
    "seed = 7\n",
    "test_size = 0.33\n",
    "# 将数据分为训练集和测试集\n",
    "# 训练集用来学习模型，测试集用来预测\n",
    "X_train, X_test, y_train, y_test = train_test_split(X, Y, test_size=test_size, random_state=seed)\n",
    "\n",
    "# fit model on training data\n",
    "model = XGBClassifier()\n",
    "model.fit(X_train, y_train)\n",
    "\n",
    "# make predictions for test data\n",
    "# 结果是每个样本属于第一类的概率，需要用 round 将其转换为 0 1 值\n",
    "y_pred = model.predict(X_test)\n",
    "predictions = [round(value) for value in y_pred]\n",
    "\n",
    "# evaluate predictions\n",
    "accuracy = accuracy_score(y_test, predictions)\n",
    "print(\"Accuracy: %.2f%%\" % (accuracy * 100.0))"
   ]
  },
  {
   "cell_type": "markdown",
   "metadata": {},
   "source": [
    "# 4. 监控模型表现"
   ]
  },
  {
   "cell_type": "markdown",
   "metadata": {},
   "source": [
    "xgboost 可以在模型训练时，评价模型在测试集上的表现.\n",
    "\n",
    "It supports this capability by specifying both a test dataset and an evaluation metric on the call to model.fit() when training the model and specifying verbose output (verbose=True).\n",
    "\n",
    "例如, we can report on the binary classification error rate (error) on a standalone test set (eval_set) while training an XGBoost model as follows:\n",
    "\n",
    "```\n",
    "eval_set = [(X_test, y_test)]\n",
    "model.fit(X_train, y_train, eval_metric=\"error\", eval_set=eval_set, verbose=True)\n",
    "```\n",
    "用该配置训练模型时会报告添加每个树之后的性能. 例如:\n",
    "```\n",
    "...\n",
    "[89] validation_0-error:0.204724\n",
    "[90] validation_0-error:0.208661\n",
    "...\n",
    "```\n",
    "We can use this evaluation to stop training once no further improvements have been made to the model.\n",
    "\n",
    "We can do this by setting the early_stopping_rounds parameter when calling model.fit() to the number of iterations that no improvement is seen on the validation dataset before training is stopped."
   ]
  },
  {
   "cell_type": "markdown",
   "metadata": {},
   "source": [
    "The full example using the Pima Indians Onset of Diabetes dataset is provided below."
   ]
  },
  {
   "cell_type": "code",
   "execution_count": 4,
   "metadata": {},
   "outputs": [
    {
     "name": "stdout",
     "output_type": "stream",
     "text": [
      "[0]\tvalidation_0-logloss:0.660186\n",
      "Will train until validation_0-logloss hasn't improved in 10 rounds.\n",
      "[1]\tvalidation_0-logloss:0.634854\n",
      "[2]\tvalidation_0-logloss:0.61224\n",
      "[3]\tvalidation_0-logloss:0.593118\n",
      "[4]\tvalidation_0-logloss:0.578303\n",
      "[5]\tvalidation_0-logloss:0.564942\n",
      "[6]\tvalidation_0-logloss:0.555113\n",
      "[7]\tvalidation_0-logloss:0.54499\n",
      "[8]\tvalidation_0-logloss:0.539151\n",
      "[9]\tvalidation_0-logloss:0.531819\n",
      "[10]\tvalidation_0-logloss:0.526065\n",
      "[11]\tvalidation_0-logloss:0.519769\n",
      "[12]\tvalidation_0-logloss:0.514979\n",
      "[13]\tvalidation_0-logloss:0.50927\n",
      "[14]\tvalidation_0-logloss:0.506086\n",
      "[15]\tvalidation_0-logloss:0.503565\n",
      "[16]\tvalidation_0-logloss:0.503591\n",
      "[17]\tvalidation_0-logloss:0.500805\n",
      "[18]\tvalidation_0-logloss:0.497605\n",
      "[19]\tvalidation_0-logloss:0.495328\n",
      "[20]\tvalidation_0-logloss:0.494777\n",
      "[21]\tvalidation_0-logloss:0.494274\n",
      "[22]\tvalidation_0-logloss:0.493333\n",
      "[23]\tvalidation_0-logloss:0.492211\n",
      "[24]\tvalidation_0-logloss:0.491936\n",
      "[25]\tvalidation_0-logloss:0.490578\n",
      "[26]\tvalidation_0-logloss:0.490895\n",
      "[27]\tvalidation_0-logloss:0.490646\n",
      "[28]\tvalidation_0-logloss:0.491911\n",
      "[29]\tvalidation_0-logloss:0.491407\n",
      "[30]\tvalidation_0-logloss:0.488828\n",
      "[31]\tvalidation_0-logloss:0.487867\n",
      "[32]\tvalidation_0-logloss:0.487297\n",
      "[33]\tvalidation_0-logloss:0.487562\n",
      "[34]\tvalidation_0-logloss:0.487789\n",
      "[35]\tvalidation_0-logloss:0.487962\n",
      "[36]\tvalidation_0-logloss:0.488218\n",
      "[37]\tvalidation_0-logloss:0.489582\n",
      "[38]\tvalidation_0-logloss:0.489334\n",
      "[39]\tvalidation_0-logloss:0.490968\n",
      "[40]\tvalidation_0-logloss:0.48978\n",
      "[41]\tvalidation_0-logloss:0.490704\n",
      "[42]\tvalidation_0-logloss:0.492369\n",
      "Stopping. Best iteration:\n",
      "[32]\tvalidation_0-logloss:0.487297\n",
      "\n",
      "Accuracy: 77.56%\n"
     ]
    }
   ],
   "source": [
    "# exmaple of early stopping\n",
    "from numpy import loadtxt\n",
    "from xgboost import XGBClassifier\n",
    "from sklearn.model_selection import train_test_split\n",
    "from sklearn.metrics import accuracy_score\n",
    "\n",
    "# load data\n",
    "dataset = loadtxt('/Users/cap/data/pima-indians-diabetes.csv', delimiter=\",\")\n",
    "\n",
    "# split data into X and y\n",
    "X = dataset[:,0:8]\n",
    "Y = dataset[:,8]\n",
    "\n",
    "# split data into train and test sets\n",
    "seed = 7\n",
    "test_size = 0.33\n",
    "X_train, X_test, y_train, y_test = train_test_split(X, Y, test_size=test_size, random_state=seed)\n",
    "\n",
    "# fit model on training data\n",
    "model = XGBClassifier()\n",
    "eval_set = [(X_test, y_test)]\n",
    "model.fit(X_train, y_train, early_stopping_rounds=10, eval_metric=\"logloss\", eval_set=eval_set, verbose=True)\n",
    "\n",
    "# make predictions for test data\n",
    "y_pred = model.predict(X_test)\n",
    "predictions = [round(value) for value in y_pred]\n",
    "\n",
    "# evaluate predictions\n",
    "accuracy = accuracy_score(y_test, predictions)\n",
    "print(\"Accuracy: %.2f%%\" % (accuracy * 100.0))"
   ]
  },
  {
   "cell_type": "markdown",
   "metadata": {},
   "source": [
    "# 5. 输出特征重要度"
   ]
  },
  {
   "cell_type": "markdown",
   "metadata": {},
   "source": [
    "使用像gradient boosting的ensembles of decision tree方法的好处是，它们可以自动地从一个已经训练的预测模型中提供特征重要性.\n",
    "\n",
    "A trained XGBoost model automatically calculates feature importance on your predictive modeling problem.\n",
    "\n",
    "These importance scores are available in the feature_importances_ member variable of the trained model. For example, they can be printed directly as follows:\n",
    "```\n",
    "print(model.feature_importances_)\n",
    "```\n",
    "XGBoost 提供一个内置函数`plot_importance()`按特征重要性绘制:\n",
    "```\n",
    "plot_importance(model)\n",
    "pyplot.show()\n",
    "```\n",
    "These importance scores can help you decide what input variables to keep or discard. They can also be used as the basis for automatic feature selection techniques."
   ]
  },
  {
   "cell_type": "markdown",
   "metadata": {},
   "source": [
    "The full example of plotting feature importance scores using the Pima Indians Onset of Diabetes dataset is provided below."
   ]
  },
  {
   "cell_type": "code",
   "execution_count": 40,
   "metadata": {},
   "outputs": [
    {
     "data": {
      "image/png": "[encoded data removed]",
      "text/plain": [
       "<Figure size 432x288 with 1 Axes>"
      ]
     },
     "metadata": {
      "needs_background": "light"
     },
     "output_type": "display_data"
    }
   ],
   "source": [
    "# plot feature importance using built-in function\n",
    "from numpy import loadtxt\n",
    "from xgboost import XGBClassifier\n",
    "from xgboost import plot_importance\n",
    "from matplotlib import pyplot\n",
    "\n",
    "# load data\n",
    "dataset = loadtxt('/Users/cap/data/pima-indians-diabetes.csv', delimiter=\",\")\n",
    "\n",
    "# split data into X and y\n",
    "X = dataset[:,0:8]\n",
    "y = dataset[:,8]\n",
    "\n",
    "# fit model on training data\n",
    "model = XGBClassifier()\n",
    "model.fit(X, y)\n",
    "\n",
    "# plot feature importance\n",
    "plot_importance(model)\n",
    "pyplot.show()"
   ]
  },
  {
   "cell_type": "markdown",
   "metadata": {},
   "source": [
    "# 6. Plot a Single XGBoost Decision Tree"
   ]
  },
  {
   "cell_type": "markdown",
   "metadata": {},
   "source": [
    "The XGBoost Python API provides a function for plotting decision trees within a trained XGBoost model.\n",
    "\n",
    "This capability is provided in the plot_tree() function that takes a trained model as the first argument, for example:\n",
    "\n",
    "This plots the first tree in the model (the tree at index 0). This plot can be saved to file or shown on the screen using matplotlib and pyplot.show().\n",
    "\n",
    "该功能要求你安装[graphviz library](http://www.graphviz.org/).\n",
    "\n",
    "We can create an XGBoost model on the Pima Indians onset of diabetes dataset and plot the first tree in the model .\n"
   ]
  },
  {
   "cell_type": "code",
   "execution_count": 1,
   "metadata": {},
   "outputs": [
    {
     "data": {
      "image/png": "[encoded data removed]",
      "text/plain": [
       "<Figure size 432x288 with 1 Axes>"
      ]
     },
     "metadata": {
      "needs_background": "light"
     },
     "output_type": "display_data"
    }
   ],
   "source": [
    "# plot decision tree\n",
    "from numpy import loadtxt\n",
    "from xgboost import XGBClassifier\n",
    "from xgboost import plot_tree\n",
    "import matplotlib.pyplot as plt\n",
    "# load data\n",
    "dataset = loadtxt('/Users/cap/data/pima-indians-diabetes.csv', delimiter=\",\")\n",
    "# split data into X and y\n",
    "X = dataset[:,0:8]\n",
    "y = dataset[:,8]\n",
    "# fit model no training data\n",
    "model = XGBClassifier()\n",
    "model.fit(X, y)\n",
    "# plot single tree\n",
    "plot_tree(model)\n",
    "plt.show()"
   ]
  },
  {
   "cell_type": "markdown",
   "metadata": {},
   "source": [
    "Running the code creates a plot of the first decision tree in the model (index 0), showing the features and feature values for each split as well as the output leaf nodes."
   ]
  },
  {
   "cell_type": "markdown",
   "metadata": {},
   "source": [
    "You can see that variables are automatically named like f1 and f5 corresponding with the feature indices in the input array.\n",
    "\n",
    "You can see the split decisions within each node and the different colors for left and right splits (blue and red).\n",
    "\n",
    "The plot_tree() function takes some parameters. You can plot specific graphs by specifying their index to the num_trees argument. For example, you can plot the 5th boosted tree in the sequence as follows:\n",
    "```python\n",
    "plot_tree(model, num_trees=4)\n",
    "```\n",
    "You can also change the layout of the graph to be left to right (easier to read) by changing the rankdir argument as ‘LR’ (left-to-right) rather than the default top to bottom (UT). For example:\n",
    "```python\n",
    "plot_tree(model, num_trees=0, rankdir='LR')\n",
    "```\n",
    "The result of plotting the tree in the left-to-right layout is shown below."
   ]
  },
  {
   "cell_type": "markdown",
   "metadata": {},
   "source": [
    "# 7. Gradient Boosting配置"
   ]
  },
  {
   "cell_type": "markdown",
   "metadata": {},
   "source": [
    "\n",
    "Gradient boosting is one of the most powerful techniques for applied machine learning and as such is quickly becoming one of the most popular.\n",
    "\n",
    "如何配置gradient boosting?\n",
    "\n",
    "A number of configuration heuristics were published in the original gradient boosting papers. They can be summarized as:\n",
    "\n",
    "- Learning rate or shrinkage (learning_rate in XGBoost) should be set to 0.1 or lower, and smaller values will require the addition of more trees.\n",
    "- The depth of trees (max_depth in XGBoost) should be configured in the range of 2-to-8, where not much benefit is seen with deeper trees.\n",
    "- Row sampling (subsample in XGBoost) should be configured in the range of 30% to 80% of the training dataset, and compared to a value of 100% for no sampling.\n",
    "\n",
    "\n",
    "- learning_rate ＝ 0.1 或更小，越小就需要多加入弱学习器；\n",
    "- tree_depth ＝ 2～8；\n",
    "- subsample ＝ 训练集的 30%～80%；\n",
    "\n",
    "\n",
    "这是配置模型的好开始.\n",
    "\n",
    "一般好的配置策略如下:\n",
    "\n",
    "1. Run the default configuration and review plots of the learning curves on the training and validation datasets.\n",
    "2. If the system is overlearning, decrease the learning rate and/or increase the number of trees.\n",
    "3. If the system is underlearning, speed the learning up to be more aggressive by increasing the learning rate and/or decreasing the number of trees.\n",
    "\n",
    "Owen Zhang, the former #1 ranked competitor on Kaggle and now CTO at Data Robot proposes an interesting strategy to configure XGBoost.\n",
    "\n",
    "他推荐，把树的数量设置为100或1000，然后，调整学习率，寻找更好的模型. This is an efficient strategy for quickly finding a good model.\n"
   ]
  },
  {
   "cell_type": "markdown",
   "metadata": {},
   "source": [
    "# 8. 超参调优"
   ]
  },
  {
   "cell_type": "markdown",
   "metadata": {},
   "source": [
    "The scikit-learn framework provides the capability to search combinations of parameters.\n",
    "\n",
    "This capability is provided in the GridSearchCV class and can be used to discover the best way to configure the model for top performance on your problem.\n",
    "\n",
    "For example, we can define a grid of the number of trees (n_estimators) and tree sizes (max_depth) to evaluate by defining a grid as:\n",
    "\n",
    "```\n",
    "n_estimators = [50, 100, 150, 200]\n",
    "max_depth = [2, 4, 6, 8]\n",
    "param_grid = dict(max_depth=max_depth, n_estimators=n_estimators)\n",
    "```\n",
    "\n",
    "And then evaluate each combination of parameters using 10-fold cross validation as:\n",
    "\n",
    "```\n",
    "kfold = StratifiedKFold(n_splits=10, shuffle=True, random_state=7)\n",
    "grid_search = GridSearchCV(model, param_grid, scoring=\"neg_log_loss\", n_jobs=-1, cv=kfold, verbose=1)\n",
    "result = grid_search.fit(X, label_encoded_y)\n",
    "```\n",
    "\n",
    "We can then review the results to determine the best combination and the general trends in varying the combinations of parameters.\n",
    "\n",
    "This is the best practice when applying XGBoost to your own problems. The parameters to consider tuning are:\n",
    "\n",
    "- The number and size of trees (n_estimators and max_depth).\n",
    "- The learning rate and number of trees (learning_rate and n_estimators).\n",
    "- The row and column subsampling rates (subsample, colsample_bytree and colsample_bylevel).\n",
    "\n",
    "- 树的个数和大小 (n_estimators and max_depth).\n",
    "- 学习率和树的个数 (learning_rate and n_estimators).\n",
    "- 行列的 subsampling rates (subsample, colsample_bytree and colsample_bylevel).\n",
    "\n",
    "Below is a full example of tuning just the learning_rate on the Pima Indians Onset of Diabetes dataset.\n"
   ]
  },
  {
   "cell_type": "markdown",
   "metadata": {},
   "source": [
    "The scikit-learn framework provides the capability to search combinations of parameters.\n",
    "\n",
    "This capability is provided in the GridSearchCV class and can be used to discover the best way to configure the model for top performance on your problem.\n",
    "\n",
    "For example, we can define a grid of the number of trees (n_estimators) and tree sizes (max_depth) to evaluate by defining a grid as:"
   ]
  },
  {
   "cell_type": "code",
   "execution_count": 5,
   "metadata": {},
   "outputs": [
    {
     "name": "stdout",
     "output_type": "stream",
     "text": [
      "Best: -0.487211 using {'learning_rate': 0.1}\n",
      "-0.689712 (0.000402) with: {'learning_rate': 0.0001}\n",
      "-0.661729 (0.003931) with: {'learning_rate': 0.001}\n",
      "-0.531596 (0.026192) with: {'learning_rate': 0.01}\n",
      "-0.487211 (0.090035) with: {'learning_rate': 0.1}\n",
      "-0.531823 (0.114000) with: {'learning_rate': 0.2}\n",
      "-0.583792 (0.141048) with: {'learning_rate': 0.3}\n"
     ]
    }
   ],
   "source": [
    "# Tune learning_rate\n",
    "from numpy import loadtxt\n",
    "from xgboost import XGBClassifier\n",
    "from sklearn.model_selection import GridSearchCV\n",
    "from sklearn.model_selection import StratifiedKFold\n",
    "\n",
    "# load data\n",
    "dataset = loadtxt('/Users/cap/data/pima-indians-diabetes.csv', delimiter=\",\")\n",
    "\n",
    "# split data into X and y\n",
    "X = dataset[:,0:8]\n",
    "Y = dataset[:,8]\n",
    "\n",
    "# grid search\n",
    "model = XGBClassifier()\n",
    "learning_rate = [0.0001, 0.001, 0.01, 0.1, 0.2, 0.3]\n",
    "param_grid = dict(learning_rate=learning_rate)\n",
    "kfold = StratifiedKFold(n_splits=10, shuffle=True, random_state=7)\n",
    "grid_search = GridSearchCV(model, param_grid, scoring=\"neg_log_loss\", n_jobs=-1, cv=kfold)\n",
    "grid_result = grid_search.fit(X, Y)\n",
    "\n",
    "# summarize results\n",
    "print(\"Best: %f using %s\" % (grid_result.best_score_, grid_result.best_params_))\n",
    "means = grid_result.cv_results_['mean_test_score']\n",
    "stds = grid_result.cv_results_['std_test_score']\n",
    "params = grid_result.cv_results_['params']\n",
    "\n",
    "for mean, stdev, param in zip(means, stds, params):\n",
    "\tprint(\"%f (%f) with: %r\" % (mean, stdev, param))\n"
   ]
  },
  {
   "cell_type": "code",
   "execution_count": null,
   "metadata": {},
   "outputs": [],
   "source": []
  }
 ],
 "metadata": {
  "kernelspec": {
   "display_name": "Python 3",
   "language": "python",
   "name": "python3"
  },
  "language_info": {
   "codemirror_mode": {
    "name": "ipython",
    "version": 3
   },
   "file_extension": ".py",
   "mimetype": "text/x-python",
   "name": "python",
   "nbconvert_exporter": "python",
   "pygments_lexer": "ipython3",
   "version": "3.7.7"
  }
 },
 "nbformat": 4,
 "nbformat_minor": 4
}
