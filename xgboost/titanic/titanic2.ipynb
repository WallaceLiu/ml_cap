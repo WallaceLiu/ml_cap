{
 "cells": [
  {
   "cell_type": "code",
   "execution_count": 20,
   "metadata": {},
   "outputs": [],
   "source": [
    "import xgboost as xgb\n",
    "import numpy as np\n",
    "from sklearn.linear_model import LogisticRegression\n",
    "from sklearn.model_selection import train_test_split\n",
    "from sklearn.ensemble import RandomForestRegressor\n",
    "from sklearn.ensemble import RandomForestClassifier\n",
    "import pandas as pd\n",
    "import csv"
   ]
  },
  {
   "cell_type": "markdown",
   "metadata": {},
   "source": [
    "# 2. 加载"
   ]
  },
  {
   "cell_type": "code",
   "execution_count": 30,
   "metadata": {},
   "outputs": [
    {
     "name": "stdout",
     "output_type": "stream",
     "text": [
      "随机森林预测缺失年龄：--start--\n",
      "随机森林预测缺失年龄：--over--\n",
      "(4455, 9) (4455,)\n"
     ]
    }
   ],
   "source": [
    "# 加载并完善特征数据\n",
    "x, y = load_data('/Users/cap/data/titanic/train.csv', True)\n",
    "print(x.shape, y.shape)"
   ]
  },
  {
   "cell_type": "markdown",
   "metadata": {},
   "source": [
    "# 3. 划分训练集和测试集"
   ]
  },
  {
   "cell_type": "code",
   "execution_count": 37,
   "metadata": {},
   "outputs": [
    {
     "name": "stdout",
     "output_type": "stream",
     "text": [
      "(2227, 9) (2228, 9) (2227,) (2228,)\n"
     ]
    }
   ],
   "source": [
    "# x样本特征集，y样本结果, test_size样本占比, random_state随机数种子\n",
    "x_train, x_test, y_train, y_test = train_test_split(x, y, test_size=0.5, random_state=1)\n",
    "\n",
    "print(x_train.shape, x_test.shape, y_train.shape, y_test.shape)"
   ]
  },
  {
   "cell_type": "markdown",
   "metadata": {},
   "source": [
    "# 4. 预测"
   ]
  },
  {
   "cell_type": "code",
   "execution_count": 21,
   "metadata": {},
   "outputs": [],
   "source": [
    "def show_accuracy(a, b, tip):\n",
    "    acc = a.ravel() == b.ravel()\n",
    "    acc_rate = 100 * float(acc.sum()) / a.size\n",
    "    return acc_rate"
   ]
  },
  {
   "cell_type": "code",
   "execution_count": 22,
   "metadata": {},
   "outputs": [],
   "source": [
    "def load_data(file_name, is_train):\n",
    "    data = pd.read_csv(file_name)  # 数据文件路径\n",
    "    # print 'data.describe() = \\n', data.describe()\n",
    " \n",
    "    # 性别 将性别字段Sex中的值 female用0，male用1代替,类型 int\n",
    "    data['Sex'] = data['Sex'].map({'female': 0, 'male': 1}).astype(int)\n",
    " \n",
    "    # 补齐船票价格缺失值\n",
    "    if len(data.Fare[data.Fare.isnull()]) > 0:\n",
    "        fare = np.zeros(3)\n",
    "        for f in range(0, 3):\n",
    "            fare[f] = data[data.Pclass == f + 1]['Fare'].dropna().median()\n",
    "        for f in range(0, 3):  # loop 0 to 2\n",
    "            data.loc[(data.Fare.isnull()) & (data.Pclass == f + 1), 'Fare'] = fare[f]\n",
    " \n",
    "    # 年龄：使用均值代替缺失值\n",
    "    # mean_age = data['Age'].dropna().mean()\n",
    "    # data.loc[(data.Age.isnull()), 'Age'] = mean_age\n",
    "    if is_train:\n",
    "        # 年龄：使用随机森林预测年龄缺失值\n",
    "        print('随机森林预测缺失年龄：--start--') \n",
    "        data_for_age = data[['Age', 'Survived', 'Fare', 'Parch', 'SibSp', 'Pclass']]\n",
    "        age_exist = data_for_age.loc[(data.Age.notnull())]   # 年龄不缺失的数据\n",
    "        age_null = data_for_age.loc[(data.Age.isnull())]\n",
    "        # print 'data_for_age=\\n', data_for_age\n",
    "        # print 'age_exis=\\n', age_exist\n",
    "        # print 'age_null=\\n',age_null\n",
    "        # print age_exist\n",
    "        x = age_exist.values[:, 1:]\n",
    "        y = age_exist.values[:, 0]\n",
    "        # print 'x = age_exist.values[:, 1:] 中 x=',x\n",
    "        # print 'y = age_exist.values[:, 0] 中 y=',y\n",
    "        #n_estimators 决策树的个数，越多越好,值越大，性能就会越差,但至少100\n",
    "        rfr = RandomForestRegressor(n_estimators=1000)\n",
    "        rfr.fit(x, y)\n",
    "        age_hat = rfr.predict(age_null.values[:, 1:])\n",
    "        # print age_hat\n",
    "        # print 'age_hat',age_hat\n",
    "        #填充年龄字段中值为空的\n",
    "        data.loc[(data.Age.isnull()), 'Age'] = age_hat\n",
    "        print('随机森林预测缺失年龄：--over--')\n",
    "    else:\n",
    "        print('随机森林预测缺失年龄2：--start--') \n",
    "        data_for_age = data[['Age', 'Fare', 'Parch', 'SibSp', 'Pclass']]\n",
    "        age_exist = data_for_age.loc[(data.Age.notnull())]  # 年龄不缺失的数据\n",
    "        age_null = data_for_age.loc[(data.Age.isnull())]\n",
    "        # print age_exist\n",
    "        x = age_exist.values[:, 1:]\n",
    "        y = age_exist.values[:, 0]\n",
    "        rfr = RandomForestRegressor(n_estimators=1000)\n",
    "        rfr.fit(x, y)\n",
    "        age_hat = rfr.predict(age_null.values[:, 1:])\n",
    "        # print age_hat\n",
    "        data.loc[(data.Age.isnull()), 'Age'] = age_hat\n",
    "        print('随机森林预测缺失年龄2：--over--') \n",
    " \n",
    "    # 起始城市\n",
    "    data.loc[(data.Embarked.isnull()), 'Embarked'] = 'S'  # 保留缺失出发城市\n",
    "    # print data['Embarked']\n",
    "    embarked_data = pd.get_dummies(data.Embarked)\n",
    "    # print embarked_data\n",
    "    embarked_data = embarked_data.rename(columns=lambda x: 'Embarked_' + str(x))\n",
    "    data = pd.concat([data, embarked_data], axis=1)\n",
    "    # print data.describe()\n",
    "    data.to_csv('New_Data.csv')\n",
    " \n",
    "    x = data[['Pclass', 'Sex', 'Age', 'SibSp', 'Parch', 'Fare', 'Embarked_C', 'Embarked_Q', 'Embarked_S']]\n",
    "    # x = data[['Pclass', 'Sex', 'Age', 'SibSp', 'Parch', 'Fare', 'Embarked']]\n",
    "    y = None\n",
    "    if 'Survived' in data:\n",
    "        y = data['Survived']\n",
    " \n",
    "    x = np.array(x)\n",
    "    y = np.array(y)\n",
    " \n",
    "    x = np.tile(x, (5, 1))\n",
    "    y = np.tile(y, (5, ))\n",
    "    if is_train:\n",
    "        return x, y\n",
    "    return x, data['PassengerId']"
   ]
  },
  {
   "cell_type": "code",
   "execution_count": 23,
   "metadata": {},
   "outputs": [],
   "source": [
    "def write_result(c, c_type):\n",
    "    file_name = '/Users/cap/data/titanic/titanic.test.csv'\n",
    "    x, passenger_id = load_data(file_name, False)\n",
    " \n",
    "    if type == 3:\n",
    "        x = xgb.DMatrix(x)\n",
    "    y = c.predict(x)\n",
    "    y[y > 0.5] = 1\n",
    "    y[~(y > 0.5)] = 0\n",
    " \n",
    "    predictions_file = open(\"Prediction_%d.csv\" % c_type, \"wb\")\n",
    "    open_file_object = csv.writer(predictions_file)\n",
    "    open_file_object.writerow([\"PassengerId\", \"Survived\"])\n",
    "    open_file_object.writerows(zip(passenger_id, y))\n",
    "    predictions_file.close()"
   ]
  },
  {
   "cell_type": "code",
   "execution_count": 24,
   "metadata": {},
   "outputs": [],
   "source": [
    "def totalSurvival(y_hat,tip):\n",
    "    total=0\n",
    "    for index,value in enumerate(y_hat):\n",
    "        if value==1:\n",
    "            total=total+1\n",
    "    print(tip,'存活：',total) \n",
    "    print('人') "
   ]
  },
  {
   "cell_type": "markdown",
   "metadata": {},
   "source": [
    "## logistic回归"
   ]
  },
  {
   "cell_type": "code",
   "execution_count": 38,
   "metadata": {},
   "outputs": [
    {
     "name": "stdout",
     "output_type": "stream",
     "text": [
      "Logistic回归 存活： 810\n",
      "人\n"
     ]
    },
    {
     "name": "stderr",
     "output_type": "stream",
     "text": [
      "/Users/cap/opt/anaconda3/envs/cap/lib/python3.7/site-packages/sklearn/linear_model/_logistic.py:764: ConvergenceWarning: lbfgs failed to converge (status=1):\n",
      "STOP: TOTAL NO. of ITERATIONS REACHED LIMIT.\n",
      "\n",
      "Increase the number of iterations (max_iter) or scale the data as shown in:\n",
      "    https://scikit-learn.org/stable/modules/preprocessing.html\n",
      "Please also refer to the documentation for alternative solver options:\n",
      "    https://scikit-learn.org/stable/modules/linear_model.html#logistic-regression\n",
      "  extra_warning_msg=_LOGISTIC_SOLVER_CONVERGENCE_MSG)\n"
     ]
    }
   ],
   "source": [
    "lr = LogisticRegression(penalty='l2')\n",
    "lr.fit(x_train, y_train)\n",
    "y_hat = lr.predict(x_test)\n",
    "lr_rate = show_accuracy(y_hat, y_test, 'Logistic回归 ')\n",
    "totalSurvival(y_hat,'Logistic回归')"
   ]
  },
  {
   "cell_type": "markdown",
   "metadata": {},
   "source": [
    "## 随机森林 "
   ]
  },
  {
   "cell_type": "code",
   "execution_count": 39,
   "metadata": {},
   "outputs": [
    {
     "name": "stdout",
     "output_type": "stream",
     "text": [
      "随机森林 存活： 860\n",
      "人\n"
     ]
    }
   ],
   "source": [
    "# n_estimators：决策树的个数,越多越好,不过值越大，性能就会越差,至少100\n",
    "rfc = RandomForestClassifier(n_estimators=100)\n",
    "rfc.fit(x_train, y_train)\n",
    "y_hat = rfc.predict(x_test)\n",
    "rfc_rate = show_accuracy(y_hat, y_test, '随机森林 ')\n",
    "totalSurvival(y_hat,'随机森林')\n",
    "# write_result(rfc, 2)"
   ]
  },
  {
   "cell_type": "markdown",
   "metadata": {},
   "source": [
    "## XGBoost"
   ]
  },
  {
   "cell_type": "code",
   "execution_count": 13,
   "metadata": {
    "scrolled": false
   },
   "outputs": [
    {
     "name": "stdout",
     "output_type": "stream",
     "text": [
      "[0]\teval-error:0.15754\ttrain-error:0.129771\n",
      "[1]\teval-error:0.149461\ttrain-error:0.110912\n",
      "[2]\teval-error:0.135548\ttrain-error:0.09789\n",
      "[3]\teval-error:0.124776\ttrain-error:0.090705\n",
      "[4]\teval-error:0.102334\ttrain-error:0.072744\n",
      "[5]\teval-error:0.090215\ttrain-error:0.060171\n",
      "[6]\teval-error:0.071813\ttrain-error:0.040413\n",
      "[7]\teval-error:0.067774\ttrain-error:0.037719\n",
      "[8]\teval-error:0.065978\ttrain-error:0.035025\n",
      "[9]\teval-error:0.069569\ttrain-error:0.035923\n",
      "[10]\teval-error:0.063285\ttrain-error:0.033229\n",
      "[11]\teval-error:0.058348\ttrain-error:0.029187\n",
      "[12]\teval-error:0.058348\ttrain-error:0.029187\n",
      "[13]\teval-error:0.05386\ttrain-error:0.024697\n",
      "[14]\teval-error:0.05386\ttrain-error:0.024697\n",
      "[15]\teval-error:0.052513\ttrain-error:0.023799\n",
      "[16]\teval-error:0.050718\ttrain-error:0.02335\n",
      "[17]\teval-error:0.048923\ttrain-error:0.022901\n",
      "[18]\teval-error:0.047576\ttrain-error:0.022003\n",
      "[19]\teval-error:0.044434\ttrain-error:0.020656\n",
      "[20]\teval-error:0.04623\ttrain-error:0.021105\n",
      "[21]\teval-error:0.047127\ttrain-error:0.020207\n",
      "[22]\teval-error:0.04219\ttrain-error:0.01841\n",
      "[23]\teval-error:0.039946\ttrain-error:0.016165\n",
      "[24]\teval-error:0.041741\ttrain-error:0.016614\n",
      "[25]\teval-error:0.038151\ttrain-error:0.015716\n",
      "[26]\teval-error:0.038151\ttrain-error:0.015716\n",
      "[27]\teval-error:0.0386\ttrain-error:0.015267\n",
      "[28]\teval-error:0.036804\ttrain-error:0.014818\n",
      "[29]\teval-error:0.036804\ttrain-error:0.014818\n",
      "[30]\teval-error:0.036804\ttrain-error:0.014818\n",
      "[31]\teval-error:0.037253\ttrain-error:0.014369\n",
      "[32]\teval-error:0.033214\ttrain-error:0.011675\n",
      "[33]\teval-error:0.035009\ttrain-error:0.012124\n",
      "[34]\teval-error:0.033214\ttrain-error:0.011675\n",
      "[35]\teval-error:0.029623\ttrain-error:0.010777\n",
      "[36]\teval-error:0.029623\ttrain-error:0.010777\n",
      "[37]\teval-error:0.031418\ttrain-error:0.011226\n",
      "[38]\teval-error:0.029623\ttrain-error:0.010777\n",
      "[39]\teval-error:0.027828\ttrain-error:0.010328\n",
      "[40]\teval-error:0.027828\ttrain-error:0.010328\n",
      "[41]\teval-error:0.027828\ttrain-error:0.010328\n",
      "[42]\teval-error:0.027828\ttrain-error:0.010328\n",
      "[43]\teval-error:0.027828\ttrain-error:0.010328\n",
      "[44]\teval-error:0.027828\ttrain-error:0.010328\n",
      "[45]\teval-error:0.027828\ttrain-error:0.010328\n",
      "[46]\teval-error:0.027828\ttrain-error:0.010328\n",
      "[47]\teval-error:0.027828\ttrain-error:0.010328\n",
      "[48]\teval-error:0.027828\ttrain-error:0.010328\n",
      "[49]\teval-error:0.027828\ttrain-error:0.010328\n",
      "[50]\teval-error:0.027828\ttrain-error:0.010328\n",
      "[51]\teval-error:0.027828\ttrain-error:0.010328\n",
      "[52]\teval-error:0.026032\ttrain-error:0.009879\n",
      "[53]\teval-error:0.026032\ttrain-error:0.009879\n",
      "[54]\teval-error:0.026032\ttrain-error:0.009879\n",
      "[55]\teval-error:0.026032\ttrain-error:0.009879\n",
      "[56]\teval-error:0.026032\ttrain-error:0.009879\n",
      "[57]\teval-error:0.026032\ttrain-error:0.009879\n",
      "[58]\teval-error:0.026032\ttrain-error:0.009879\n",
      "[59]\teval-error:0.026032\ttrain-error:0.009879\n",
      "[60]\teval-error:0.026032\ttrain-error:0.009879\n",
      "[61]\teval-error:0.026032\ttrain-error:0.009879\n",
      "[62]\teval-error:0.026032\ttrain-error:0.009879\n",
      "[63]\teval-error:0.024237\ttrain-error:0.00943\n",
      "[64]\teval-error:0.024237\ttrain-error:0.00943\n",
      "[65]\teval-error:0.024237\ttrain-error:0.00943\n",
      "[66]\teval-error:0.024237\ttrain-error:0.00943\n",
      "[67]\teval-error:0.024237\ttrain-error:0.00943\n",
      "[68]\teval-error:0.022442\ttrain-error:0.008981\n",
      "[69]\teval-error:0.022442\ttrain-error:0.008981\n",
      "[70]\teval-error:0.022442\ttrain-error:0.008981\n",
      "[71]\teval-error:0.024237\ttrain-error:0.00943\n",
      "[72]\teval-error:0.024237\ttrain-error:0.00943\n",
      "[73]\teval-error:0.024237\ttrain-error:0.00943\n",
      "[74]\teval-error:0.022442\ttrain-error:0.008981\n",
      "[75]\teval-error:0.022442\ttrain-error:0.008981\n",
      "[76]\teval-error:0.022442\ttrain-error:0.008981\n",
      "[77]\teval-error:0.022442\ttrain-error:0.008981\n",
      "[78]\teval-error:0.022442\ttrain-error:0.008981\n",
      "[79]\teval-error:0.022442\ttrain-error:0.008981\n",
      "[80]\teval-error:0.022442\ttrain-error:0.008981\n",
      "[81]\teval-error:0.022442\ttrain-error:0.008981\n",
      "[82]\teval-error:0.022442\ttrain-error:0.008981\n",
      "[83]\teval-error:0.022442\ttrain-error:0.008981\n",
      "[84]\teval-error:0.022442\ttrain-error:0.008981\n",
      "[85]\teval-error:0.022442\ttrain-error:0.008981\n",
      "[86]\teval-error:0.022442\ttrain-error:0.008981\n",
      "[87]\teval-error:0.022442\ttrain-error:0.008981\n",
      "[88]\teval-error:0.022442\ttrain-error:0.008981\n",
      "[89]\teval-error:0.020646\ttrain-error:0.008532\n",
      "[90]\teval-error:0.020646\ttrain-error:0.008532\n",
      "[91]\teval-error:0.020646\ttrain-error:0.008532\n",
      "[92]\teval-error:0.022442\ttrain-error:0.008981\n",
      "[93]\teval-error:0.022442\ttrain-error:0.008981\n",
      "[94]\teval-error:0.022442\ttrain-error:0.008981\n",
      "[95]\teval-error:0.022442\ttrain-error:0.008981\n",
      "[96]\teval-error:0.022442\ttrain-error:0.008981\n",
      "[97]\teval-error:0.022442\ttrain-error:0.008981\n",
      "[98]\teval-error:0.022442\ttrain-error:0.008981\n",
      "[99]\teval-error:0.022442\ttrain-error:0.008981\n",
      "xgboost 存活： 880\n",
      "人\n"
     ]
    }
   ],
   "source": [
    "data_train = xgb.DMatrix(x_train, label=y_train)\n",
    "data_test = xgb.DMatrix(x_test, label=y_test)\n",
    "watch_list = [(data_test, 'eval'), (data_train, 'train')]\n",
    "param = {'max_depth': 6, 'eta': 0.8, 'silent': 1, 'objective': 'binary:logistic'}\n",
    "bst = xgb.train(param, data_train, num_boost_round=100, evals=watch_list)\n",
    "y_hat = bst.predict(data_test)\n",
    "y_hat[y_hat > 0.5] = 1\n",
    "y_hat[~(y_hat > 0.5)] = 0\n",
    "xgb_rate = show_accuracy(y_hat, y_test, 'XGBoost ')\n",
    "totalSurvival(y_hat,'xgboost')"
   ]
  },
  {
   "cell_type": "code",
   "execution_count": 14,
   "metadata": {
    "scrolled": true
   },
   "outputs": [
    {
     "name": "stdout",
     "output_type": "stream",
     "text": [
      "Logistic回归：78.815%\n",
      "随机森林：97.935%\n",
      "XGBoost：97.756%\n"
     ]
    }
   ],
   "source": [
    "print('Logistic回归：%.3f%%' % lr_rate)\n",
    "print('随机森林：%.3f%%' % rfc_rate) \n",
    "print('XGBoost：%.3f%%' % xgb_rate) "
   ]
  },
  {
   "cell_type": "code",
   "execution_count": null,
   "metadata": {},
   "outputs": [],
   "source": []
  }
 ],
 "metadata": {
  "kernelspec": {
   "display_name": "Python 3",
   "language": "python",
   "name": "python3"
  },
  "language_info": {
   "codemirror_mode": {
    "name": "ipython",
    "version": 3
   },
   "file_extension": ".py",
   "mimetype": "text/x-python",
   "name": "python",
   "nbconvert_exporter": "python",
   "pygments_lexer": "ipython3",
   "version": "3.7.7"
  }
 },
 "nbformat": 4,
 "nbformat_minor": 4
}
