{
 "cells": [
  {
   "cell_type": "markdown",
   "metadata": {},
   "source": [
    "# Boosting from existing prediction"
   ]
  },
  {
   "cell_type": "code",
   "execution_count": 11,
   "metadata": {},
   "outputs": [],
   "source": [
    "#!/usr/bin/python\n",
    "import numpy as np\n",
    "import xgboost as xgb"
   ]
  },
  {
   "cell_type": "code",
   "execution_count": 12,
   "metadata": {},
   "outputs": [
    {
     "name": "stdout",
     "output_type": "stream",
     "text": [
      "[22:19:42] 6513x127 matrix with 143286 entries loaded from ./data/agaricus.txt.train\n",
      "[22:19:42] 1611x127 matrix with 35442 entries loaded from ./data/agaricus.txt.test\n"
     ]
    }
   ],
   "source": [
    "dtrain = xgb.DMatrix('./data/agaricus.txt.train')\n",
    "dtest = xgb.DMatrix('./data/agaricus.txt.test')"
   ]
  },
  {
   "cell_type": "code",
   "execution_count": 13,
   "metadata": {},
   "outputs": [
    {
     "name": "stdout",
     "output_type": "stream",
     "text": [
      "start running example to start from a initial prediction\n",
      "[0]\teval-error:0.042831\ttrain-error:0.046522\n"
     ]
    }
   ],
   "source": [
    "###\n",
    "# advanced: start from a initial base prediction\n",
    "#\n",
    "print ('start running example to start from a initial prediction')\n",
    "watchlist  = [(dtest,'eval'), (dtrain,'train')]\n",
    "# specify parameters via map, definition are same as c++ version\n",
    "param = {'max_depth':2, 'eta':1, 'silent':1, 'objective':'binary:logistic' }\n",
    "# train xgboost for 1 round\n",
    "bst = xgb.train( param, dtrain, 1, watchlist )\n",
    "# Note: we need the margin value instead of transformed prediction in set_base_margin\n",
    "# do predict with output_margin=True, will always give you margin values before logistic transformation\n",
    "ptrain = bst.predict(dtrain, output_margin=True)\n",
    "ptest  = bst.predict(dtest, output_margin=True)\n",
    "dtrain.set_base_margin(ptrain)\n",
    "dtest.set_base_margin(ptest)"
   ]
  },
  {
   "cell_type": "code",
   "execution_count": null,
   "metadata": {},
   "outputs": [],
   "source": [
    "print ('this is result of running from initial prediction')\n",
    "bst = xgb.train( param, dtrain, 1, watchlist )"
   ]
  },
  {
   "cell_type": "code",
   "execution_count": null,
   "metadata": {},
   "outputs": [],
   "source": []
  }
 ],
 "metadata": {
  "kernelspec": {
   "display_name": "Python 3",
   "language": "python",
   "name": "python3"
  },
  "language_info": {
   "codemirror_mode": {
    "name": "ipython",
    "version": 3
   },
   "file_extension": ".py",
   "mimetype": "text/x-python",
   "name": "python",
   "nbconvert_exporter": "python",
   "pygments_lexer": "ipython3",
   "version": "3.7.5"
  }
 },
 "nbformat": 4,
 "nbformat_minor": 4
}
